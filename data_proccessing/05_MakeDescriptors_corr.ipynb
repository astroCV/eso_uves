{
 "cells": [
  {
   "cell_type": "code",
   "execution_count": 1,
   "metadata": {},
   "outputs": [],
   "source": [
    "# This notebook take UVES images numpy arrays and compute the resnet50 descriptors\n",
    "# After that it save the descriptors in the descriptor blob in azure\n",
    "from azure.storage.blob import BlockBlobService, PublicAccess"
   ]
  },
  {
   "cell_type": "code",
   "execution_count": 3,
   "metadata": {},
   "outputs": [],
   "source": [
    "# Create the BlockBlockService that is used to call the Blob service \n",
    "# for the storage account\n",
    "import config_blob_keys as cfg\n",
    "\n",
    "account_name = cfg.AccountName\n",
    "account_key = cfg.AccountKey\n",
    "block_blob_service = BlockBlobService(account_name=account_name, account_key=account_key)\n",
    "\n",
    "cont_name_proc_cor = cfg.ContNameProcCor\n",
    "block_blob_service.set_container_acl(cont_name_proc_cor, public_access=PublicAccess.Container)\n",
    "\n",
    "cont_name_desc_cor = cfg.ContNameDescCor\n",
    "block_blob_service.set_container_acl(cont_name_desc_cor, public_access=PublicAccess.Container)\n",
    "\n",
    "# Number of workers\n",
    "NumberWorkers=10"
   ]
  },
  {
   "cell_type": "code",
   "execution_count": 21,
   "metadata": {},
   "outputs": [],
   "source": [
    "# Create a list \"filelist\" with the blob content\n",
    "# inside the \"Azure:container/folder\" location \n",
    "def BlobList(container, folder, filelist, verbose=False):\n",
    "    \n",
    "    gen = block_blob_service.list_blobs(container, prefix=folder)\n",
    "    \n",
    "    for blob in gen:\n",
    "        file = str(blob.name).replace(folder,'')\n",
    "        filelist.append(file)\n",
    "        if verbose == True:\n",
    "            print(\"\\t Blob name: \" + blob.name)\n",
    "        \n",
    "    return filelist\n",
    "\n",
    "# Download a file \"blobfile\" from \"container\" and save it \n",
    "# in the file \"locfile\"\n",
    "def DownBlob(container, blobfile, locfile, verbose=False):\n",
    "    \n",
    "    if verbose == True:\n",
    "        print('Downloading ' + blobfile + ' to ' + locfile)\n",
    "    \n",
    "    block_blob_service.get_blob_to_path(container, blobfile, locfile)\n",
    "\n",
    "# Uncompress data \n",
    "def UnCompress(file, verbose=False):\n",
    "    \n",
    "    if verbose == True:\n",
    "        print('Uncompressing ' + file)\n",
    "    \n",
    "    subprocess.call(['uncompress', file])\n",
    "    #os.popen('uncompress ' + file)\n",
    "\n",
    "# Upload file \"locfile\" to the blob \"blobfile\" in container\n",
    "def UpBlob(container, blobfile, locfile, verbose=False):\n",
    "    \n",
    "    if verbose == True:\n",
    "        print('Uploading ' + locfile + ' to ' + blobfile)\n",
    "        \n",
    "    block_blob_service.create_blob_from_path(container, blobfile, locfile, validate_content=True)"
   ]
  },
  {
   "cell_type": "code",
   "execution_count": 22,
   "metadata": {},
   "outputs": [],
   "source": [
    "import os\n",
    "import PIL\n",
    "import cv2\n",
    "import glob\n",
    "import pickle\n",
    "import numpy as np\n",
    "import pandas as pd\n",
    "import matplotlib.pyplot as plt\n",
    "import seaborn as sns\n",
    "import random\n",
    "\n",
    "from collections import OrderedDict\n",
    "from sklearn.metrics.pairwise import cosine_similarity\n",
    "from tqdm import tqdm, tqdm_notebook\n",
    "from PIL import Image\n",
    "from scipy import sparse\n",
    "from astropy.io import fits\n",
    "\n",
    "%matplotlib inline"
   ]
  },
  {
   "cell_type": "code",
   "execution_count": 23,
   "metadata": {},
   "outputs": [],
   "source": [
    "import keras\n",
    "import keras.backend as K\n",
    "from keras.applications import nasnet"
   ]
  },
  {
   "cell_type": "code",
   "execution_count": 24,
   "metadata": {},
   "outputs": [
    {
     "data": {
      "text/plain": [
       "[name: \"/device:CPU:0\"\n",
       " device_type: \"CPU\"\n",
       " memory_limit: 268435456\n",
       " locality {\n",
       " }\n",
       " incarnation: 6928423437118645882, name: \"/device:XLA_CPU:0\"\n",
       " device_type: \"XLA_CPU\"\n",
       " memory_limit: 17179869184\n",
       " locality {\n",
       " }\n",
       " incarnation: 12124724449613550781\n",
       " physical_device_desc: \"device: XLA_CPU device\"]"
      ]
     },
     "execution_count": 24,
     "metadata": {},
     "output_type": "execute_result"
    }
   ],
   "source": [
    "import tensorflow as tf\n",
    "from tensorflow.python.client import device_lib\n",
    "device_lib.list_local_devices()"
   ]
  },
  {
   "cell_type": "code",
   "execution_count": 25,
   "metadata": {},
   "outputs": [],
   "source": [
    "config = tf.ConfigProto( device_count = {'CPU': 8} ) \n",
    "sess = tf.Session(config=config) \n",
    "tf.keras.backend.set_session(sess)\n",
    "#config = tf.ConfigProto( device_count = {'CPU':12, 'GPU': 2} )\n",
    "#config.gpu_options.allow_growth=True\n",
    "#sess = tf.Session(config=config) \n",
    "#tf.keras.backend.set_session(sess)"
   ]
  },
  {
   "cell_type": "code",
   "execution_count": 26,
   "metadata": {},
   "outputs": [
    {
     "data": {
      "text/plain": [
       "[]"
      ]
     },
     "execution_count": 26,
     "metadata": {},
     "output_type": "execute_result"
    }
   ],
   "source": [
    "from keras import backend as K\n",
    "K.tensorflow_backend._get_available_gpus()"
   ]
  },
  {
   "cell_type": "code",
   "execution_count": 27,
   "metadata": {},
   "outputs": [],
   "source": [
    "# Define the model\n",
    "model = keras.applications.resnet50.ResNet50(include_top=True, \n",
    "                                                 weights='imagenet', \n",
    "                                                 classes=1000)"
   ]
  },
  {
   "cell_type": "code",
   "execution_count": 28,
   "metadata": {},
   "outputs": [],
   "source": [
    "# Get the .fits image, imname, and get the data for the corresponding extension, ext\n",
    "def get_image(imname, verbose=False):\n",
    "    \n",
    "    data = np.load(imname)\n",
    "    image = np.empty((3,data.shape[0],data.shape[1]))\n",
    "    image[0] = np.copy(data)\n",
    "    image[1] = np.copy(data)\n",
    "    image[2] = np.copy(data)\n",
    "    image = np.swapaxes(image,0,1)\n",
    "    image = np.swapaxes(image,1,2)\n",
    "\n",
    "    return image"
   ]
  },
  {
   "cell_type": "code",
   "execution_count": 29,
   "metadata": {},
   "outputs": [],
   "source": [
    "# Get descriptors from data for the model\n",
    "def get_descriptor(model, out_layer, model_input):\n",
    "    get_3rd_layer_output = K.function([model.layers[0].input],\n",
    "                                      [model.get_layer(out_layer).output])\n",
    "    layer_output = get_3rd_layer_output([model_input])[0]\n",
    "    return layer_output"
   ]
  },
  {
   "cell_type": "code",
   "execution_count": 63,
   "metadata": {},
   "outputs": [],
   "source": [
    "# Given a list of files, call to get descriptors to create the descriptors arrays \n",
    "def process_imgs(path_loc, dir_list, layer, blob_dir, ext):\n",
    "    \n",
    "    descriptor_len = model.get_layer(layer).output.shape[-1].value\n",
    "    descriptors = np.zeros((len(dir_list), descriptor_len))\n",
    "    \n",
    "    extension = 'ext'+str(ext)\n",
    "\n",
    "    npy_blob_dir = os.path.join('numpy', blob_dir)\n",
    "    npy_blob_dir = os.path.join(npy_blob_dir, extension)\n",
    "    \n",
    "    desc_blob_dir = os.path.join('numpy/method1', blob_dir)\n",
    "    desc_blob_dir = os.path.join(desc_blob_dir, extension)\n",
    "        \n",
    "    with tqdm_notebook(total=len(dir_list)) as pbar:\n",
    "        for i, imgname in enumerate(dir_list):\n",
    "                \n",
    "            if imgname.startswith('/'):\n",
    "                imgname = imgname[1:]\n",
    "\n",
    "            npy_blob_name = os.path.join(npy_blob_dir, imgname)\n",
    "            desc_blob_name = os.path.join(desc_blob_dir, imgname.replace('.npy','_desc.npy'))\n",
    "            \n",
    "            npy_blob_localpath = os.path.join(path_loc, imgname)\n",
    "            desc_blob_localpath = os.path.join(path_loc, imgname.replace('.npy','_desc.npy'))\n",
    "            \n",
    "            DownBlob(cont_name_proc, npy_blob_name, npy_blob_localpath, False)\n",
    "\n",
    "            try:\n",
    "                img = get_image(npy_blob_localpath)\n",
    "                img = np.expand_dims(img, axis=0)\n",
    "                desc = get_descriptor(model, layer, img)\n",
    "                np.save(desc_blob_localpath, desc)\n",
    "                \n",
    "                while not os.path.exists(desc_blob_localpath):\n",
    "                    time.sleep(0.1)\n",
    "                \n",
    "                #print(npy_blob_name)\n",
    "                #print(desc_blob_name)\n",
    "                UpBlob(cont_name_desc, desc_blob_name, desc_blob_localpath, False)\n",
    "            except:\n",
    "                print(\"Error. The descriptor was not computed\")\n",
    "            \n",
    "            os.remove(npy_blob_localpath)\n",
    "            os.remove(desc_blob_localpath)\n",
    "            \n",
    "            #npy_blob_name = npy_blob_name.replace(imgname,'')\n",
    "            #path_to_file_loc = path_to_file_loc.replace(imgname,'')\n",
    "            pbar.update(1)\n",
    "            \n",
    "    return descriptors"
   ]
  },
  {
   "cell_type": "code",
   "execution_count": 64,
   "metadata": {},
   "outputs": [],
   "source": [
    "# Paths\n",
    "PROJECT_DIR = \"/data/notebooks/uves_jprieto/Tutorial\"\n",
    "# Model checkpoints\n",
    "CHECKPOINT_DIR = os.path.join(PROJECT_DIR, \"checkpoint\")"
   ]
  },
  {
   "cell_type": "code",
   "execution_count": 65,
   "metadata": {},
   "outputs": [
    {
     "name": "stdout",
     "output_type": "stream",
     "text": [
      "Working on UVES_BLUE_BIAS extension ext0...\n"
     ]
    },
    {
     "data": {
      "application/vnd.jupyter.widget-view+json": {
       "model_id": "5bee2a4d45b2430281207c8c80241bc3",
       "version_major": 2,
       "version_minor": 0
      },
      "text/plain": [
       "HBox(children=(IntProgress(value=0), HTML(value='')))"
      ]
     },
     "metadata": {},
     "output_type": "display_data"
    },
    {
     "name": "stdout",
     "output_type": "stream",
     "text": [
      "\n",
      "Working on UVES_RED_BIAS extension ext1...\n"
     ]
    },
    {
     "data": {
      "application/vnd.jupyter.widget-view+json": {
       "model_id": "af67cdc1aa8842b48473899068befb69",
       "version_major": 2,
       "version_minor": 0
      },
      "text/plain": [
       "HBox(children=(IntProgress(value=0), HTML(value='')))"
      ]
     },
     "metadata": {},
     "output_type": "display_data"
    },
    {
     "name": "stdout",
     "output_type": "stream",
     "text": [
      "\n",
      "Working on UVES_RED_BIAS extension ext2...\n"
     ]
    },
    {
     "data": {
      "application/vnd.jupyter.widget-view+json": {
       "model_id": "2790d4f62e4a434f8e4668f70b5b36f6",
       "version_major": 2,
       "version_minor": 0
      },
      "text/plain": [
       "HBox(children=(IntProgress(value=0), HTML(value='')))"
      ]
     },
     "metadata": {},
     "output_type": "display_data"
    },
    {
     "name": "stdout",
     "output_type": "stream",
     "text": [
      "\n",
      "Working on UVES_BLUE_WAVE extension ext1...\n"
     ]
    },
    {
     "data": {
      "application/vnd.jupyter.widget-view+json": {
       "model_id": "3c4a8c09868c463ca3d31bfd7922562d",
       "version_major": 2,
       "version_minor": 0
      },
      "text/plain": [
       "HBox(children=(IntProgress(value=0, max=103), HTML(value='')))"
      ]
     },
     "metadata": {},
     "output_type": "display_data"
    },
    {
     "name": "stdout",
     "output_type": "stream",
     "text": [
      "\n",
      "Working on UVES_BLUE_WAVE extension ext2...\n"
     ]
    },
    {
     "data": {
      "application/vnd.jupyter.widget-view+json": {
       "model_id": "ac2c69f7241e40e39d34df45972768df",
       "version_major": 2,
       "version_minor": 0
      },
      "text/plain": [
       "HBox(children=(IntProgress(value=0, max=103), HTML(value='')))"
      ]
     },
     "metadata": {},
     "output_type": "display_data"
    },
    {
     "name": "stdout",
     "output_type": "stream",
     "text": [
      "\n",
      "Working on UVES_DIC1B_FLAT extension ext0...\n"
     ]
    },
    {
     "data": {
      "application/vnd.jupyter.widget-view+json": {
       "model_id": "fb83d305452f4971bc825417d68dd7ec",
       "version_major": 2,
       "version_minor": 0
      },
      "text/plain": [
       "HBox(children=(IntProgress(value=0), HTML(value='')))"
      ]
     },
     "metadata": {},
     "output_type": "display_data"
    },
    {
     "name": "stdout",
     "output_type": "stream",
     "text": [
      "\n",
      "Working on UVES_DIC1B_DFLAT extension ext0...\n"
     ]
    },
    {
     "data": {
      "application/vnd.jupyter.widget-view+json": {
       "model_id": "5716d0ba61594fe8b9ea6ef08d71d8ac",
       "version_major": 2,
       "version_minor": 0
      },
      "text/plain": [
       "HBox(children=(IntProgress(value=0), HTML(value='')))"
      ]
     },
     "metadata": {},
     "output_type": "display_data"
    },
    {
     "name": "stdout",
     "output_type": "stream",
     "text": [
      "\n",
      "Working on UVES_RED_WAVE extension ext1...\n"
     ]
    },
    {
     "data": {
      "application/vnd.jupyter.widget-view+json": {
       "model_id": "969048da25764230a1f4475f4f5f4d66",
       "version_major": 2,
       "version_minor": 0
      },
      "text/plain": [
       "HBox(children=(IntProgress(value=0), HTML(value='')))"
      ]
     },
     "metadata": {},
     "output_type": "display_data"
    },
    {
     "name": "stdout",
     "output_type": "stream",
     "text": [
      "\n",
      "Working on UVES_RED_WAVE extension ext2...\n"
     ]
    },
    {
     "data": {
      "application/vnd.jupyter.widget-view+json": {
       "model_id": "77affcca3a244f8fa733e3d985a6e459",
       "version_major": 2,
       "version_minor": 0
      },
      "text/plain": [
       "HBox(children=(IntProgress(value=0), HTML(value='')))"
      ]
     },
     "metadata": {},
     "output_type": "display_data"
    },
    {
     "name": "stdout",
     "output_type": "stream",
     "text": [
      "\n",
      "Working on UVES_DIC1R_FLAT extension ext1...\n"
     ]
    },
    {
     "data": {
      "application/vnd.jupyter.widget-view+json": {
       "model_id": "54afc420e8904527b318d8cbed5eacd6",
       "version_major": 2,
       "version_minor": 0
      },
      "text/plain": [
       "HBox(children=(IntProgress(value=0), HTML(value='')))"
      ]
     },
     "metadata": {},
     "output_type": "display_data"
    },
    {
     "name": "stdout",
     "output_type": "stream",
     "text": [
      "\n",
      "Working on UVES_DIC1R_FLAT extension ext2...\n"
     ]
    },
    {
     "data": {
      "application/vnd.jupyter.widget-view+json": {
       "model_id": "b656c70c4c5c416b8be0877b6d9f02e0",
       "version_major": 2,
       "version_minor": 0
      },
      "text/plain": [
       "HBox(children=(IntProgress(value=0), HTML(value='')))"
      ]
     },
     "metadata": {},
     "output_type": "display_data"
    },
    {
     "name": "stdout",
     "output_type": "stream",
     "text": [
      "\n"
     ]
    }
   ],
   "source": [
    "# List of numpy arrays to process\n",
    "# * bias_red:\n",
    "#   - UVES_RED_BIAS (ext: 1,2)\n",
    "# * bias_blue:\n",
    "#   - UVES_BLUE_BIAS (ext: 0)\n",
    "# * blue_arc_flat:\n",
    "#   - UVES_BLUE_WAVE (ext: 1,2)\n",
    "#   - UVES_DIC1B_FLAT (ext: 0)\n",
    "#   - UVES_DIC1B_DFLAT (ext: 0)\n",
    "# * red_arc_flat:\n",
    "#   - UVES_RED_WAVE (ext: 1,2)\n",
    "#   - UVES_DIC1R_FLAT (ext: 1,2)\n",
    "# The following lines produce the resnet50 descriptors for the images inside\n",
    "# fits_folder and the corresponding extentsion \n",
    "\n",
    "check_from_list = False\n",
    "\n",
    "# Define the subdirs to be created in /descriptor based on the image type and ext\n",
    "npyBlobSubDirs = ['UVES_BLUE_BIAS','UVES_RED_BIAS','UVES_BLUE_WAVE','UVES_DIC1B_FLAT','UVES_DIC1B_DFLAT','UVES_RED_WAVE','UVES_DIC1R_FLAT']\n",
    "# Test\n",
    "#npyBlobSubDirs = ['UVES_BLUE_BIAS']\n",
    "\n",
    "path_loc = '../Temp'\n",
    "\n",
    "# Loof for images type folder\n",
    "for npy_blob_sub_dir in npyBlobSubDirs:\n",
    "    # Images extensions\n",
    "    \n",
    "    if npy_blob_sub_dir == 'UVES_BLUE_BIAS' or npy_blob_sub_dir == 'UVES_DIC1B_FLAT' or npy_blob_sub_dir == 'UVES_DIC1B_DFLAT':\n",
    "        Exten = [0]\n",
    "    elif npy_blob_sub_dir == 'UVES_RED_BIAS' or npy_blob_sub_dir == 'UVES_BLUE_WAVE' or npy_blob_sub_dir == 'UVES_RED_WAVE' or npy_blob_sub_dir == 'UVES_DIC1R_FLAT':\n",
    "        Exten = [1,2]\n",
    "    \n",
    "    # Loop for images extensions\n",
    "    for ext in Exten:\n",
    "        npy_files_list = []\n",
    "        extension = 'ext'+str(ext)\n",
    "        print('Working on ' + npy_blob_sub_dir + ' extension ' + extension + '...')\n",
    "        # List the images-extension data\n",
    "        npy_folder_rem = os.path.join('numpy',npy_blob_sub_dir)\n",
    "        npy_folder_rem = os.path.join(npy_folder_rem,extension)\n",
    "        \n",
    "        BlobList(cont_name_proc, npy_folder_rem, npy_files_list)\n",
    "        \n",
    "        IMG_DIRECTORY_LIST = npy_files_list\n",
    "        \n",
    "        if check_from_list:\n",
    "            check_files_list = []\n",
    "            desc_folder_rem = npy_folder_rem\n",
    "            BlobList(cont_name_desc, desc_folder_rem, check_files_list)\n",
    "            check_files_list = [file.replace('_desc','') for file in check_files_list]\n",
    "            if len(check_files_list)<len(npy_files_list):\n",
    "                check_files_list.pop(-1)\n",
    "                print(len(check_files_list),' of',len(npy_files_list),' already uploaded in ' + desc_folder_rem)\n",
    "                print('Continue...')\n",
    "            elif len(check_files_list)==len(npy_files_list):\n",
    "                print(len(check_files_list),' of',len(npy_files_list),' already uploaded in ' + desc_folder_rem)\n",
    "                print('Folder '+ desc_folder_rem + ' is ready.')\n",
    "            npy_files_list = [file for file in npy_files_list if file not in check_files_list]\n",
    "            IMG_DIRECTORY_LIST = npy_files_list\n",
    "        \n",
    "        if len(IMG_DIRECTORY_LIST)>0:\n",
    "            descs_resNet50 = process_imgs(path_loc, IMG_DIRECTORY_LIST, 'avg_pool', npy_blob_sub_dir, ext)"
   ]
  },
  {
   "cell_type": "code",
   "execution_count": null,
   "metadata": {},
   "outputs": [],
   "source": []
  }
 ],
 "metadata": {
  "kernelspec": {
   "display_name": "PoC ESO",
   "language": "python",
   "name": "eso"
  },
  "language_info": {
   "codemirror_mode": {
    "name": "ipython",
    "version": 3
   },
   "file_extension": ".py",
   "mimetype": "text/x-python",
   "name": "python",
   "nbconvert_exporter": "python",
   "pygments_lexer": "ipython3",
   "version": "3.6.8"
  }
 },
 "nbformat": 4,
 "nbformat_minor": 4
}
