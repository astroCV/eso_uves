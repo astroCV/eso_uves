{
 "cells": [
  {
   "cell_type": "code",
   "execution_count": 1,
   "metadata": {},
   "outputs": [],
   "source": [
    "import os\n",
    "import numpy as np\n",
    "import pandas as pd\n",
    "\n",
    "from sklearn.cluster import KMeans"
   ]
  },
  {
   "cell_type": "code",
   "execution_count": 72,
   "metadata": {},
   "outputs": [],
   "source": [
    "# Paths\n",
    "PROJECT_DIR = \"/data/notebooks/uves_jprieto\"\n",
    "# Data dir\n",
    "DATA_DIR = os.path.join(PROJECT_DIR, \"data\")\n",
    "# Model checkpoints\n",
    "CHECKPOINT_DIR = os.path.join(PROJECT_DIR, \"data/descriptors\")\n",
    "# Number of images to process\n",
    "N_FILES=51"
   ]
  },
  {
   "cell_type": "code",
   "execution_count": 73,
   "metadata": {},
   "outputs": [
    {
     "data": {
      "text/html": [
       "<div>\n",
       "<style scoped>\n",
       "    .dataframe tbody tr th:only-of-type {\n",
       "        vertical-align: middle;\n",
       "    }\n",
       "\n",
       "    .dataframe tbody tr th {\n",
       "        vertical-align: top;\n",
       "    }\n",
       "\n",
       "    .dataframe thead th {\n",
       "        text-align: right;\n",
       "    }\n",
       "</style>\n",
       "<table border=\"1\" class=\"dataframe\">\n",
       "  <thead>\n",
       "    <tr style=\"text-align: right;\">\n",
       "      <th></th>\n",
       "      <th>image_type</th>\n",
       "      <th>filename</th>\n",
       "      <th>flag</th>\n",
       "      <th>info</th>\n",
       "    </tr>\n",
       "  </thead>\n",
       "  <tbody>\n",
       "    <tr>\n",
       "      <th>0</th>\n",
       "      <td>bias_blue</td>\n",
       "      <td>UVES.2010-01-01T10:08:04.504.fits</td>\n",
       "      <td>NaN</td>\n",
       "      <td>NaN</td>\n",
       "    </tr>\n",
       "    <tr>\n",
       "      <th>1</th>\n",
       "      <td>bias_blue</td>\n",
       "      <td>UVES.2010-01-01T10:08:50.087.fits</td>\n",
       "      <td>NaN</td>\n",
       "      <td>NaN</td>\n",
       "    </tr>\n",
       "    <tr>\n",
       "      <th>2</th>\n",
       "      <td>bias_blue</td>\n",
       "      <td>UVES.2010-01-01T10:09:35.661.fits</td>\n",
       "      <td>NaN</td>\n",
       "      <td>NaN</td>\n",
       "    </tr>\n",
       "    <tr>\n",
       "      <th>3</th>\n",
       "      <td>bias_blue</td>\n",
       "      <td>UVES.2010-01-01T10:10:21.234.fits</td>\n",
       "      <td>NaN</td>\n",
       "      <td>NaN</td>\n",
       "    </tr>\n",
       "    <tr>\n",
       "      <th>4</th>\n",
       "      <td>bias_blue</td>\n",
       "      <td>UVES.2010-01-01T10:11:06.808.fits</td>\n",
       "      <td>NaN</td>\n",
       "      <td>NaN</td>\n",
       "    </tr>\n",
       "  </tbody>\n",
       "</table>\n",
       "</div>"
      ],
      "text/plain": [
       "  image_type                           filename flag info\n",
       "0  bias_blue  UVES.2010-01-01T10:08:04.504.fits  NaN  NaN\n",
       "1  bias_blue  UVES.2010-01-01T10:08:50.087.fits  NaN  NaN\n",
       "2  bias_blue  UVES.2010-01-01T10:09:35.661.fits  NaN  NaN\n",
       "3  bias_blue  UVES.2010-01-01T10:10:21.234.fits  NaN  NaN\n",
       "4  bias_blue  UVES.2010-01-01T10:11:06.808.fits  NaN  NaN"
      ]
     },
     "execution_count": 73,
     "metadata": {},
     "output_type": "execute_result"
    }
   ],
   "source": [
    "uves_flag_file=os.path.join(DATA_DIR, 'UVES_hidden_flag_results.txt')\n",
    "uves_flag_df=pd.read_csv(uves_flag_file, comment='#', sep=';')\n",
    "\n",
    "uves_flag_df['filename'] = uves_flag_df['filename']+'.fits'\n",
    "\n",
    "uves_flag_df.head()"
   ]
  },
  {
   "cell_type": "code",
   "execution_count": 74,
   "metadata": {},
   "outputs": [
    {
     "data": {
      "text/plain": [
       "array([nan, 'CORRUPTED'], dtype=object)"
      ]
     },
     "execution_count": 74,
     "metadata": {},
     "output_type": "execute_result"
    }
   ],
   "source": [
    "uves_flag_df['flag'].unique()"
   ]
  },
  {
   "cell_type": "code",
   "execution_count": 75,
   "metadata": {},
   "outputs": [
    {
     "data": {
      "text/html": [
       "<div>\n",
       "<style scoped>\n",
       "    .dataframe tbody tr th:only-of-type {\n",
       "        vertical-align: middle;\n",
       "    }\n",
       "\n",
       "    .dataframe tbody tr th {\n",
       "        vertical-align: top;\n",
       "    }\n",
       "\n",
       "    .dataframe thead th {\n",
       "        text-align: right;\n",
       "    }\n",
       "</style>\n",
       "<table border=\"1\" class=\"dataframe\">\n",
       "  <thead>\n",
       "    <tr style=\"text-align: right;\">\n",
       "      <th></th>\n",
       "      <th>filename</th>\n",
       "    </tr>\n",
       "  </thead>\n",
       "  <tbody>\n",
       "    <tr>\n",
       "      <th>0</th>\n",
       "      <td>UVES.2010-01-01T10:08:04.504.fits</td>\n",
       "    </tr>\n",
       "    <tr>\n",
       "      <th>1</th>\n",
       "      <td>UVES.2010-01-01T10:08:50.087.fits</td>\n",
       "    </tr>\n",
       "    <tr>\n",
       "      <th>2</th>\n",
       "      <td>UVES.2010-01-01T10:09:35.661.fits</td>\n",
       "    </tr>\n",
       "    <tr>\n",
       "      <th>3</th>\n",
       "      <td>UVES.2010-01-01T10:10:21.234.fits</td>\n",
       "    </tr>\n",
       "    <tr>\n",
       "      <th>4</th>\n",
       "      <td>UVES.2010-01-01T10:11:06.808.fits</td>\n",
       "    </tr>\n",
       "  </tbody>\n",
       "</table>\n",
       "</div>"
      ],
      "text/plain": [
       "                            filename\n",
       "0  UVES.2010-01-01T10:08:04.504.fits\n",
       "1  UVES.2010-01-01T10:08:50.087.fits\n",
       "2  UVES.2010-01-01T10:09:35.661.fits\n",
       "3  UVES.2010-01-01T10:10:21.234.fits\n",
       "4  UVES.2010-01-01T10:11:06.808.fits"
      ]
     },
     "execution_count": 75,
     "metadata": {},
     "output_type": "execute_result"
    }
   ],
   "source": [
    "img_filenames_file = os.path.join(CHECKPOINT_DIR, 'img_filenames_resNet50_N'+str(N_FILES)+'.csv')\n",
    "img_df=pd.read_csv(img_filenames_file)\n",
    "img_df.head()"
   ]
  },
  {
   "cell_type": "code",
   "execution_count": 76,
   "metadata": {},
   "outputs": [
    {
     "data": {
      "text/plain": [
       "(97, 2048)"
      ]
     },
     "execution_count": 76,
     "metadata": {},
     "output_type": "execute_result"
    }
   ],
   "source": [
    "descriptor_file = os.path.join(CHECKPOINT_DIR, 'descriptors_resNet50_N'+str(N_FILES)+'.npy')\n",
    "desc_data = np.load(descriptor_file)\n",
    "desc_data = np.array(desc_data)\n",
    "desc_data.shape"
   ]
  },
  {
   "cell_type": "code",
   "execution_count": 77,
   "metadata": {},
   "outputs": [
    {
     "name": "stdout",
     "output_type": "stream",
     "text": [
      "Does np_descs contains any NaN?: False\n",
      "What images contain NaN: (array([], dtype=int64),)\n"
     ]
    }
   ],
   "source": [
    "print(\"Does np_descs contains any NaN?: {}\".format(np.isnan(desc_data).any()))\n",
    "      \n",
    "print('What images contain NaN: {}'.format(np.where(np.isnan(np.sum(desc_data, axis=1)))))"
   ]
  },
  {
   "cell_type": "code",
   "execution_count": 78,
   "metadata": {},
   "outputs": [
    {
     "name": "stdout",
     "output_type": "stream",
     "text": [
      "(97, 2048)\n",
      "97\n"
     ]
    }
   ],
   "source": [
    "desc_mask=np.isfinite(np.sum(desc_data, axis=1))\n",
    "\n",
    "desc_clean_data = desc_data[desc_mask]\n",
    "img_clean_df = img_df[desc_mask]\n",
    "\n",
    "print(desc_clean_data.shape)\n",
    "print(len(img_clean_df))"
   ]
  },
  {
   "cell_type": "code",
   "execution_count": 79,
   "metadata": {},
   "outputs": [
    {
     "data": {
      "text/html": [
       "<div>\n",
       "<style scoped>\n",
       "    .dataframe tbody tr th:only-of-type {\n",
       "        vertical-align: middle;\n",
       "    }\n",
       "\n",
       "    .dataframe tbody tr th {\n",
       "        vertical-align: top;\n",
       "    }\n",
       "\n",
       "    .dataframe thead th {\n",
       "        text-align: right;\n",
       "    }\n",
       "</style>\n",
       "<table border=\"1\" class=\"dataframe\">\n",
       "  <thead>\n",
       "    <tr style=\"text-align: right;\">\n",
       "      <th></th>\n",
       "      <th>filename</th>\n",
       "      <th>image_type</th>\n",
       "      <th>flag</th>\n",
       "      <th>info</th>\n",
       "    </tr>\n",
       "  </thead>\n",
       "  <tbody>\n",
       "    <tr>\n",
       "      <th>51</th>\n",
       "      <td>UVES.2010-10-26T09:32:08.896.fits</td>\n",
       "      <td>bias_blue</td>\n",
       "      <td>CORRUPTED</td>\n",
       "      <td>20101027,DBCM02070</td>\n",
       "    </tr>\n",
       "    <tr>\n",
       "      <th>52</th>\n",
       "      <td>UVES.2010-10-26T09:32:54.480.fits</td>\n",
       "      <td>bias_blue</td>\n",
       "      <td>CORRUPTED</td>\n",
       "      <td>20101027,DBCM02070</td>\n",
       "    </tr>\n",
       "    <tr>\n",
       "      <th>53</th>\n",
       "      <td>UVES.2010-10-26T09:33:40.043.fits</td>\n",
       "      <td>bias_blue</td>\n",
       "      <td>CORRUPTED</td>\n",
       "      <td>20101027,DBCM02070</td>\n",
       "    </tr>\n",
       "    <tr>\n",
       "      <th>54</th>\n",
       "      <td>UVES.2010-10-26T09:34:25.617.fits</td>\n",
       "      <td>bias_blue</td>\n",
       "      <td>CORRUPTED</td>\n",
       "      <td>20101027,DBCM02070</td>\n",
       "    </tr>\n",
       "    <tr>\n",
       "      <th>55</th>\n",
       "      <td>UVES.2010-10-26T09:35:11.190.fits</td>\n",
       "      <td>bias_blue</td>\n",
       "      <td>CORRUPTED</td>\n",
       "      <td>20101027,DBCM02070</td>\n",
       "    </tr>\n",
       "    <tr>\n",
       "      <th>56</th>\n",
       "      <td>UVES.2010-10-27T09:03:28.338.fits</td>\n",
       "      <td>bias_blue</td>\n",
       "      <td>CORRUPTED</td>\n",
       "      <td>20101028,DBCM-02073</td>\n",
       "    </tr>\n",
       "    <tr>\n",
       "      <th>57</th>\n",
       "      <td>UVES.2010-10-27T09:04:13.922.fits</td>\n",
       "      <td>bias_blue</td>\n",
       "      <td>CORRUPTED</td>\n",
       "      <td>20101028,DBCM-02073</td>\n",
       "    </tr>\n",
       "    <tr>\n",
       "      <th>58</th>\n",
       "      <td>UVES.2010-10-27T09:04:59.495.fits</td>\n",
       "      <td>bias_blue</td>\n",
       "      <td>CORRUPTED</td>\n",
       "      <td>20101028,DBCM-02073</td>\n",
       "    </tr>\n",
       "    <tr>\n",
       "      <th>59</th>\n",
       "      <td>UVES.2010-10-27T09:05:45.069.fits</td>\n",
       "      <td>bias_blue</td>\n",
       "      <td>CORRUPTED</td>\n",
       "      <td>20101028,DBCM-02073</td>\n",
       "    </tr>\n",
       "    <tr>\n",
       "      <th>60</th>\n",
       "      <td>UVES.2010-10-27T09:06:30.642.fits</td>\n",
       "      <td>bias_blue</td>\n",
       "      <td>CORRUPTED</td>\n",
       "      <td>20101028,DBCM-02073</td>\n",
       "    </tr>\n",
       "    <tr>\n",
       "      <th>61</th>\n",
       "      <td>UVES.2012-02-17T10:05:06.556.fits</td>\n",
       "      <td>bias_blue</td>\n",
       "      <td>CORRUPTED</td>\n",
       "      <td>20120223,DBCM-03426</td>\n",
       "    </tr>\n",
       "    <tr>\n",
       "      <th>62</th>\n",
       "      <td>UVES.2012-02-17T10:05:52.140.fits</td>\n",
       "      <td>bias_blue</td>\n",
       "      <td>CORRUPTED</td>\n",
       "      <td>20120223,DBCM-03426</td>\n",
       "    </tr>\n",
       "    <tr>\n",
       "      <th>63</th>\n",
       "      <td>UVES.2012-02-17T10:06:37.713.fits</td>\n",
       "      <td>bias_blue</td>\n",
       "      <td>CORRUPTED</td>\n",
       "      <td>20120223,DBCM-03426</td>\n",
       "    </tr>\n",
       "    <tr>\n",
       "      <th>64</th>\n",
       "      <td>UVES.2012-02-17T10:07:23.287.fits</td>\n",
       "      <td>bias_blue</td>\n",
       "      <td>CORRUPTED</td>\n",
       "      <td>20120223,DBCM-03426</td>\n",
       "    </tr>\n",
       "    <tr>\n",
       "      <th>65</th>\n",
       "      <td>UVES.2012-02-17T10:08:08.860.fits</td>\n",
       "      <td>bias_blue</td>\n",
       "      <td>CORRUPTED</td>\n",
       "      <td>20120223,DBCM-03426</td>\n",
       "    </tr>\n",
       "    <tr>\n",
       "      <th>66</th>\n",
       "      <td>UVES.2015-05-26T22:32:32.321.fits</td>\n",
       "      <td>bias_blue</td>\n",
       "      <td>CORRUPTED</td>\n",
       "      <td>20150601,PROP071593</td>\n",
       "    </tr>\n",
       "    <tr>\n",
       "      <th>67</th>\n",
       "      <td>UVES.2015-12-05T09:37:16.660.fits</td>\n",
       "      <td>bias_blue</td>\n",
       "      <td>CORRUPTED</td>\n",
       "      <td>20160107,PROP076502</td>\n",
       "    </tr>\n",
       "    <tr>\n",
       "      <th>68</th>\n",
       "      <td>UVES.2015-12-05T09:38:02.244.fits</td>\n",
       "      <td>bias_blue</td>\n",
       "      <td>CORRUPTED</td>\n",
       "      <td>20160107,PROP076502</td>\n",
       "    </tr>\n",
       "    <tr>\n",
       "      <th>69</th>\n",
       "      <td>UVES.2015-12-05T09:38:47.818.fits</td>\n",
       "      <td>bias_blue</td>\n",
       "      <td>CORRUPTED</td>\n",
       "      <td>20160107,PROP076502</td>\n",
       "    </tr>\n",
       "    <tr>\n",
       "      <th>70</th>\n",
       "      <td>UVES.2015-12-05T09:39:33.392.fits</td>\n",
       "      <td>bias_blue</td>\n",
       "      <td>CORRUPTED</td>\n",
       "      <td>20160107,PROP076502</td>\n",
       "    </tr>\n",
       "    <tr>\n",
       "      <th>71</th>\n",
       "      <td>UVES.2015-12-05T09:40:18.967.fits</td>\n",
       "      <td>bias_blue</td>\n",
       "      <td>CORRUPTED</td>\n",
       "      <td>20160107,PROP076502</td>\n",
       "    </tr>\n",
       "    <tr>\n",
       "      <th>72</th>\n",
       "      <td>UVES.2015-12-06T09:01:10.063.fits</td>\n",
       "      <td>bias_blue</td>\n",
       "      <td>CORRUPTED</td>\n",
       "      <td>20160107,PROP076502</td>\n",
       "    </tr>\n",
       "    <tr>\n",
       "      <th>73</th>\n",
       "      <td>UVES.2015-12-06T09:01:55.647.fits</td>\n",
       "      <td>bias_blue</td>\n",
       "      <td>CORRUPTED</td>\n",
       "      <td>20160107,PROP076502</td>\n",
       "    </tr>\n",
       "    <tr>\n",
       "      <th>74</th>\n",
       "      <td>UVES.2015-12-06T09:02:41.222.fits</td>\n",
       "      <td>bias_blue</td>\n",
       "      <td>CORRUPTED</td>\n",
       "      <td>20160107,PROP076502</td>\n",
       "    </tr>\n",
       "    <tr>\n",
       "      <th>75</th>\n",
       "      <td>UVES.2015-12-06T09:03:26.796.fits</td>\n",
       "      <td>bias_blue</td>\n",
       "      <td>CORRUPTED</td>\n",
       "      <td>20160107,PROP076502</td>\n",
       "    </tr>\n",
       "    <tr>\n",
       "      <th>76</th>\n",
       "      <td>UVES.2015-12-06T09:04:12.380.fits</td>\n",
       "      <td>bias_blue</td>\n",
       "      <td>CORRUPTED</td>\n",
       "      <td>20160107,PROP076502</td>\n",
       "    </tr>\n",
       "    <tr>\n",
       "      <th>77</th>\n",
       "      <td>UVES.2015-12-07T08:52:50.326.fits</td>\n",
       "      <td>bias_blue</td>\n",
       "      <td>CORRUPTED</td>\n",
       "      <td>20160107,PROP076502</td>\n",
       "    </tr>\n",
       "    <tr>\n",
       "      <th>78</th>\n",
       "      <td>UVES.2015-12-07T08:53:35.910.fits</td>\n",
       "      <td>bias_blue</td>\n",
       "      <td>CORRUPTED</td>\n",
       "      <td>20160107,PROP076502</td>\n",
       "    </tr>\n",
       "    <tr>\n",
       "      <th>79</th>\n",
       "      <td>UVES.2015-12-07T08:54:21.484.fits</td>\n",
       "      <td>bias_blue</td>\n",
       "      <td>CORRUPTED</td>\n",
       "      <td>20160107,PROP076502</td>\n",
       "    </tr>\n",
       "    <tr>\n",
       "      <th>80</th>\n",
       "      <td>UVES.2015-12-07T08:55:07.048.fits</td>\n",
       "      <td>bias_blue</td>\n",
       "      <td>CORRUPTED</td>\n",
       "      <td>20160107,PROP076502</td>\n",
       "    </tr>\n",
       "    <tr>\n",
       "      <th>81</th>\n",
       "      <td>UVES.2015-12-07T08:55:52.632.fits</td>\n",
       "      <td>bias_blue</td>\n",
       "      <td>CORRUPTED</td>\n",
       "      <td>20160107,PROP076502</td>\n",
       "    </tr>\n",
       "    <tr>\n",
       "      <th>82</th>\n",
       "      <td>UVES.2015-12-08T08:57:19.936.fits</td>\n",
       "      <td>bias_blue</td>\n",
       "      <td>CORRUPTED</td>\n",
       "      <td>20160107,PROP076502</td>\n",
       "    </tr>\n",
       "    <tr>\n",
       "      <th>83</th>\n",
       "      <td>UVES.2015-12-08T08:58:05.520.fits</td>\n",
       "      <td>bias_blue</td>\n",
       "      <td>CORRUPTED</td>\n",
       "      <td>20160107,PROP076502</td>\n",
       "    </tr>\n",
       "    <tr>\n",
       "      <th>84</th>\n",
       "      <td>UVES.2015-12-08T08:58:51.094.fits</td>\n",
       "      <td>bias_blue</td>\n",
       "      <td>CORRUPTED</td>\n",
       "      <td>20160107,PROP076502</td>\n",
       "    </tr>\n",
       "    <tr>\n",
       "      <th>85</th>\n",
       "      <td>UVES.2015-12-08T08:59:36.668.fits</td>\n",
       "      <td>bias_blue</td>\n",
       "      <td>CORRUPTED</td>\n",
       "      <td>20160107,PROP076502</td>\n",
       "    </tr>\n",
       "    <tr>\n",
       "      <th>86</th>\n",
       "      <td>UVES.2015-12-08T09:00:22.242.fits</td>\n",
       "      <td>bias_blue</td>\n",
       "      <td>CORRUPTED</td>\n",
       "      <td>20160107,PROP076502</td>\n",
       "    </tr>\n",
       "    <tr>\n",
       "      <th>87</th>\n",
       "      <td>UVES.2015-12-09T08:48:05.206.fits</td>\n",
       "      <td>bias_blue</td>\n",
       "      <td>CORRUPTED</td>\n",
       "      <td>20160107,PROP076502</td>\n",
       "    </tr>\n",
       "    <tr>\n",
       "      <th>88</th>\n",
       "      <td>UVES.2015-12-09T08:48:50.710.fits</td>\n",
       "      <td>bias_blue</td>\n",
       "      <td>CORRUPTED</td>\n",
       "      <td>20160107,PROP076502</td>\n",
       "    </tr>\n",
       "    <tr>\n",
       "      <th>89</th>\n",
       "      <td>UVES.2015-12-09T08:49:36.204.fits</td>\n",
       "      <td>bias_blue</td>\n",
       "      <td>CORRUPTED</td>\n",
       "      <td>20160107,PROP076502</td>\n",
       "    </tr>\n",
       "    <tr>\n",
       "      <th>90</th>\n",
       "      <td>UVES.2015-12-09T08:50:21.698.fits</td>\n",
       "      <td>bias_blue</td>\n",
       "      <td>CORRUPTED</td>\n",
       "      <td>20160107,PROP076502</td>\n",
       "    </tr>\n",
       "    <tr>\n",
       "      <th>91</th>\n",
       "      <td>UVES.2015-12-09T08:51:07.192.fits</td>\n",
       "      <td>bias_blue</td>\n",
       "      <td>CORRUPTED</td>\n",
       "      <td>20160107,PROP076502</td>\n",
       "    </tr>\n",
       "    <tr>\n",
       "      <th>92</th>\n",
       "      <td>UVES.2018-05-09T11:15:51.335.fits</td>\n",
       "      <td>bias_blue</td>\n",
       "      <td>CORRUPTED</td>\n",
       "      <td>20180511,PROP131906</td>\n",
       "    </tr>\n",
       "    <tr>\n",
       "      <th>93</th>\n",
       "      <td>UVES.2018-05-09T11:16:37.019.fits</td>\n",
       "      <td>bias_blue</td>\n",
       "      <td>CORRUPTED</td>\n",
       "      <td>20180511,PROP131906</td>\n",
       "    </tr>\n",
       "    <tr>\n",
       "      <th>94</th>\n",
       "      <td>UVES.2018-05-09T11:17:22.602.fits</td>\n",
       "      <td>bias_blue</td>\n",
       "      <td>CORRUPTED</td>\n",
       "      <td>20180511,PROP131906</td>\n",
       "    </tr>\n",
       "    <tr>\n",
       "      <th>95</th>\n",
       "      <td>UVES.2018-05-09T11:18:08.186.fits</td>\n",
       "      <td>bias_blue</td>\n",
       "      <td>CORRUPTED</td>\n",
       "      <td>20180511,PROP131906</td>\n",
       "    </tr>\n",
       "    <tr>\n",
       "      <th>96</th>\n",
       "      <td>UVES.2018-05-09T11:18:53.770.fits</td>\n",
       "      <td>bias_blue</td>\n",
       "      <td>CORRUPTED</td>\n",
       "      <td>20180511,PROP131906</td>\n",
       "    </tr>\n",
       "  </tbody>\n",
       "</table>\n",
       "</div>"
      ],
      "text/plain": [
       "                             filename image_type       flag  \\\n",
       "51  UVES.2010-10-26T09:32:08.896.fits  bias_blue  CORRUPTED   \n",
       "52  UVES.2010-10-26T09:32:54.480.fits  bias_blue  CORRUPTED   \n",
       "53  UVES.2010-10-26T09:33:40.043.fits  bias_blue  CORRUPTED   \n",
       "54  UVES.2010-10-26T09:34:25.617.fits  bias_blue  CORRUPTED   \n",
       "55  UVES.2010-10-26T09:35:11.190.fits  bias_blue  CORRUPTED   \n",
       "56  UVES.2010-10-27T09:03:28.338.fits  bias_blue  CORRUPTED   \n",
       "57  UVES.2010-10-27T09:04:13.922.fits  bias_blue  CORRUPTED   \n",
       "58  UVES.2010-10-27T09:04:59.495.fits  bias_blue  CORRUPTED   \n",
       "59  UVES.2010-10-27T09:05:45.069.fits  bias_blue  CORRUPTED   \n",
       "60  UVES.2010-10-27T09:06:30.642.fits  bias_blue  CORRUPTED   \n",
       "61  UVES.2012-02-17T10:05:06.556.fits  bias_blue  CORRUPTED   \n",
       "62  UVES.2012-02-17T10:05:52.140.fits  bias_blue  CORRUPTED   \n",
       "63  UVES.2012-02-17T10:06:37.713.fits  bias_blue  CORRUPTED   \n",
       "64  UVES.2012-02-17T10:07:23.287.fits  bias_blue  CORRUPTED   \n",
       "65  UVES.2012-02-17T10:08:08.860.fits  bias_blue  CORRUPTED   \n",
       "66  UVES.2015-05-26T22:32:32.321.fits  bias_blue  CORRUPTED   \n",
       "67  UVES.2015-12-05T09:37:16.660.fits  bias_blue  CORRUPTED   \n",
       "68  UVES.2015-12-05T09:38:02.244.fits  bias_blue  CORRUPTED   \n",
       "69  UVES.2015-12-05T09:38:47.818.fits  bias_blue  CORRUPTED   \n",
       "70  UVES.2015-12-05T09:39:33.392.fits  bias_blue  CORRUPTED   \n",
       "71  UVES.2015-12-05T09:40:18.967.fits  bias_blue  CORRUPTED   \n",
       "72  UVES.2015-12-06T09:01:10.063.fits  bias_blue  CORRUPTED   \n",
       "73  UVES.2015-12-06T09:01:55.647.fits  bias_blue  CORRUPTED   \n",
       "74  UVES.2015-12-06T09:02:41.222.fits  bias_blue  CORRUPTED   \n",
       "75  UVES.2015-12-06T09:03:26.796.fits  bias_blue  CORRUPTED   \n",
       "76  UVES.2015-12-06T09:04:12.380.fits  bias_blue  CORRUPTED   \n",
       "77  UVES.2015-12-07T08:52:50.326.fits  bias_blue  CORRUPTED   \n",
       "78  UVES.2015-12-07T08:53:35.910.fits  bias_blue  CORRUPTED   \n",
       "79  UVES.2015-12-07T08:54:21.484.fits  bias_blue  CORRUPTED   \n",
       "80  UVES.2015-12-07T08:55:07.048.fits  bias_blue  CORRUPTED   \n",
       "81  UVES.2015-12-07T08:55:52.632.fits  bias_blue  CORRUPTED   \n",
       "82  UVES.2015-12-08T08:57:19.936.fits  bias_blue  CORRUPTED   \n",
       "83  UVES.2015-12-08T08:58:05.520.fits  bias_blue  CORRUPTED   \n",
       "84  UVES.2015-12-08T08:58:51.094.fits  bias_blue  CORRUPTED   \n",
       "85  UVES.2015-12-08T08:59:36.668.fits  bias_blue  CORRUPTED   \n",
       "86  UVES.2015-12-08T09:00:22.242.fits  bias_blue  CORRUPTED   \n",
       "87  UVES.2015-12-09T08:48:05.206.fits  bias_blue  CORRUPTED   \n",
       "88  UVES.2015-12-09T08:48:50.710.fits  bias_blue  CORRUPTED   \n",
       "89  UVES.2015-12-09T08:49:36.204.fits  bias_blue  CORRUPTED   \n",
       "90  UVES.2015-12-09T08:50:21.698.fits  bias_blue  CORRUPTED   \n",
       "91  UVES.2015-12-09T08:51:07.192.fits  bias_blue  CORRUPTED   \n",
       "92  UVES.2018-05-09T11:15:51.335.fits  bias_blue  CORRUPTED   \n",
       "93  UVES.2018-05-09T11:16:37.019.fits  bias_blue  CORRUPTED   \n",
       "94  UVES.2018-05-09T11:17:22.602.fits  bias_blue  CORRUPTED   \n",
       "95  UVES.2018-05-09T11:18:08.186.fits  bias_blue  CORRUPTED   \n",
       "96  UVES.2018-05-09T11:18:53.770.fits  bias_blue  CORRUPTED   \n",
       "\n",
       "                   info  \n",
       "51   20101027,DBCM02070  \n",
       "52   20101027,DBCM02070  \n",
       "53   20101027,DBCM02070  \n",
       "54   20101027,DBCM02070  \n",
       "55   20101027,DBCM02070  \n",
       "56  20101028,DBCM-02073  \n",
       "57  20101028,DBCM-02073  \n",
       "58  20101028,DBCM-02073  \n",
       "59  20101028,DBCM-02073  \n",
       "60  20101028,DBCM-02073  \n",
       "61  20120223,DBCM-03426  \n",
       "62  20120223,DBCM-03426  \n",
       "63  20120223,DBCM-03426  \n",
       "64  20120223,DBCM-03426  \n",
       "65  20120223,DBCM-03426  \n",
       "66  20150601,PROP071593  \n",
       "67  20160107,PROP076502  \n",
       "68  20160107,PROP076502  \n",
       "69  20160107,PROP076502  \n",
       "70  20160107,PROP076502  \n",
       "71  20160107,PROP076502  \n",
       "72  20160107,PROP076502  \n",
       "73  20160107,PROP076502  \n",
       "74  20160107,PROP076502  \n",
       "75  20160107,PROP076502  \n",
       "76  20160107,PROP076502  \n",
       "77  20160107,PROP076502  \n",
       "78  20160107,PROP076502  \n",
       "79  20160107,PROP076502  \n",
       "80  20160107,PROP076502  \n",
       "81  20160107,PROP076502  \n",
       "82  20160107,PROP076502  \n",
       "83  20160107,PROP076502  \n",
       "84  20160107,PROP076502  \n",
       "85  20160107,PROP076502  \n",
       "86  20160107,PROP076502  \n",
       "87  20160107,PROP076502  \n",
       "88  20160107,PROP076502  \n",
       "89  20160107,PROP076502  \n",
       "90  20160107,PROP076502  \n",
       "91  20160107,PROP076502  \n",
       "92  20180511,PROP131906  \n",
       "93  20180511,PROP131906  \n",
       "94  20180511,PROP131906  \n",
       "95  20180511,PROP131906  \n",
       "96  20180511,PROP131906  "
      ]
     },
     "execution_count": 79,
     "metadata": {},
     "output_type": "execute_result"
    }
   ],
   "source": [
    "temp_df = pd.merge(img_clean_df, uves_flag_df, how='inner', on='filename')\n",
    "temp_df[temp_df['flag']=='CORRUPTED']"
   ]
  },
  {
   "cell_type": "markdown",
   "metadata": {},
   "source": [
    "## 1. We try K-means method"
   ]
  },
  {
   "cell_type": "code",
   "execution_count": 80,
   "metadata": {},
   "outputs": [],
   "source": [
    "n_clusters=2\n",
    "kmeans = KMeans(n_clusters=n_clusters, n_init=100, n_jobs=4)\n",
    "class_pred = kmeans.fit_predict(desc_clean_data)"
   ]
  },
  {
   "cell_type": "code",
   "execution_count": 81,
   "metadata": {},
   "outputs": [
    {
     "data": {
      "text/plain": [
       "array([0, 0, 0, 0, 0, 0, 0, 0, 0, 0, 0, 0, 0, 0, 0, 0, 0, 0, 0, 0, 0, 0,\n",
       "       0, 0, 0, 0, 0, 0, 0, 0, 0, 0, 0, 0, 0, 0, 0, 0, 0, 0, 0, 0, 0, 0,\n",
       "       0, 0, 0, 0, 0, 0, 0, 0, 0, 0, 0, 0, 0, 0, 0, 0, 0, 1, 1, 1, 1, 1,\n",
       "       0, 0, 0, 0, 0, 0, 0, 0, 0, 0, 0, 0, 0, 0, 0, 0, 0, 0, 0, 0, 0, 0,\n",
       "       0, 0, 0, 0, 0, 0, 0, 0, 0], dtype=int32)"
      ]
     },
     "execution_count": 81,
     "metadata": {},
     "output_type": "execute_result"
    }
   ],
   "source": [
    "class_pred"
   ]
  },
  {
   "cell_type": "code",
   "execution_count": 82,
   "metadata": {},
   "outputs": [
    {
     "data": {
      "text/plain": [
       "{0: 92, 1: 5}"
      ]
     },
     "execution_count": 82,
     "metadata": {},
     "output_type": "execute_result"
    }
   ],
   "source": [
    "unique, counts = np.unique(class_pred, return_counts=True)\n",
    "dict(zip(unique, counts))"
   ]
  },
  {
   "cell_type": "markdown",
   "metadata": {},
   "source": [
    "## 2. We try similarity matrix and spectral clustering"
   ]
  },
  {
   "cell_type": "code",
   "execution_count": 84,
   "metadata": {},
   "outputs": [
    {
     "name": "stdout",
     "output_type": "stream",
     "text": [
      "97\n",
      "(97, 2048)\n"
     ]
    },
    {
     "data": {
      "text/plain": [
       "array([[0.00000000e+00, 0.00000000e+00, 5.09574966e-06, ...,\n",
       "        2.42499733e+00, 0.00000000e+00, 0.00000000e+00],\n",
       "       [0.00000000e+00, 0.00000000e+00, 4.83720805e-06, ...,\n",
       "        2.42437959e+00, 0.00000000e+00, 0.00000000e+00],\n",
       "       [0.00000000e+00, 0.00000000e+00, 4.92471236e-06, ...,\n",
       "        2.42448688e+00, 0.00000000e+00, 0.00000000e+00],\n",
       "       ...,\n",
       "       [0.00000000e+00, 0.00000000e+00, 4.98105328e-06, ...,\n",
       "        2.42374396e+00, 0.00000000e+00, 0.00000000e+00],\n",
       "       [0.00000000e+00, 0.00000000e+00, 4.88823343e-06, ...,\n",
       "        2.42366195e+00, 0.00000000e+00, 0.00000000e+00],\n",
       "       [0.00000000e+00, 0.00000000e+00, 4.96266466e-06, ...,\n",
       "        2.42379951e+00, 0.00000000e+00, 0.00000000e+00]])"
      ]
     },
     "execution_count": 84,
     "metadata": {},
     "output_type": "execute_result"
    }
   ],
   "source": [
    "print(len(desc_clean_data))\n",
    "print(desc_clean_data.shape)\n",
    "desc_clean_data"
   ]
  },
  {
   "cell_type": "code",
   "execution_count": 60,
   "metadata": {},
   "outputs": [],
   "source": [
    "from tqdm import tqdm, tqdm_notebook\n",
    "from scipy import sparse\n",
    "from sklearn.metrics.pairwise import cosine_similarity\n",
    "from sklearn.cluster import SpectralClustering"
   ]
  },
  {
   "cell_type": "code",
   "execution_count": 61,
   "metadata": {},
   "outputs": [],
   "source": [
    "desc_sparse = sparse.csr_matrix(desc_clean_data)"
   ]
  },
  {
   "cell_type": "code",
   "execution_count": 62,
   "metadata": {},
   "outputs": [
    {
     "name": "stdout",
     "output_type": "stream",
     "text": [
      "CPU times: user 2 µs, sys: 1 µs, total: 3 µs\n",
      "Wall time: 5.01 µs\n"
     ]
    }
   ],
   "source": [
    "%time\n",
    "sim_matrix = cosine_similarity(desc_sparse, desc_sparse)"
   ]
  },
  {
   "cell_type": "code",
   "execution_count": 68,
   "metadata": {},
   "outputs": [],
   "source": [
    "#sim_matrix"
   ]
  },
  {
   "cell_type": "markdown",
   "metadata": {},
   "source": [
    "Explore sim_matrix"
   ]
  },
  {
   "cell_type": "code",
   "execution_count": 64,
   "metadata": {},
   "outputs": [
    {
     "data": {
      "text/plain": [
       "0.9999999737236425"
      ]
     },
     "execution_count": 64,
     "metadata": {},
     "output_type": "execute_result"
    }
   ],
   "source": [
    "np.median(sim_matrix)"
   ]
  },
  {
   "cell_type": "code",
   "execution_count": 71,
   "metadata": {},
   "outputs": [
    {
     "data": {
      "text/plain": [
       "array([[ 0, 60],\n",
       "       [ 0, 61],\n",
       "       [ 0, 62],\n",
       "       [ 0, 63],\n",
       "       [ 0, 64],\n",
       "       [ 1, 60],\n",
       "       [ 1, 61],\n",
       "       [ 1, 62],\n",
       "       [ 1, 63],\n",
       "       [ 1, 64]])"
      ]
     },
     "execution_count": 71,
     "metadata": {},
     "output_type": "execute_result"
    }
   ],
   "source": [
    "np.argwhere(sim_matrix < 0.98)[0:10,:]"
   ]
  },
  {
   "cell_type": "code",
   "execution_count": null,
   "metadata": {},
   "outputs": [],
   "source": []
  },
  {
   "cell_type": "code",
   "execution_count": 66,
   "metadata": {},
   "outputs": [],
   "source": [
    "n_clusters=2\n",
    "model = SpectralClustering(n_clusters, affinity='precomputed')\n",
    "class_pred = model.fit_predict(sim_matrix)"
   ]
  },
  {
   "cell_type": "code",
   "execution_count": 67,
   "metadata": {},
   "outputs": [
    {
     "data": {
      "text/plain": [
       "{0: 91, 1: 5}"
      ]
     },
     "execution_count": 67,
     "metadata": {},
     "output_type": "execute_result"
    }
   ],
   "source": [
    "unique, counts = np.unique(class_pred, return_counts=True)\n",
    "dict(zip(unique, counts))"
   ]
  },
  {
   "cell_type": "markdown",
   "metadata": {},
   "source": [
    "Analyze "
   ]
  },
  {
   "cell_type": "code",
   "execution_count": 110,
   "metadata": {},
   "outputs": [],
   "source": [
    "# jpprieto 26/06/2019\n",
    "# Plot the principal components\n",
    "import pandas as pd\n",
    "import numpy as np\n",
    "import matplotlib.pyplot as plt\n",
    "import seaborn as sns\n",
    "from sklearn.model_selection import train_test_split\n",
    "from sklearn.decomposition import PCA\n",
    "from sklearn.preprocessing import StandardScaler\n",
    "from sklearn.linear_model import LinearRegression\n",
    "from sklearn.metrics import mean_squared_error"
   ]
  },
  {
   "cell_type": "code",
   "execution_count": 111,
   "metadata": {},
   "outputs": [],
   "source": [
    "X_pre = desc_clean_data\n",
    "scaler = StandardScaler()\n",
    "X = scaler.fit_transform(X_pre)"
   ]
  },
  {
   "cell_type": "code",
   "execution_count": 112,
   "metadata": {},
   "outputs": [],
   "source": [
    "pca = PCA()"
   ]
  },
  {
   "cell_type": "code",
   "execution_count": 113,
   "metadata": {},
   "outputs": [
    {
     "data": {
      "text/plain": [
       "array([[-1.00628577e+01, -2.33114157e+00, -1.25046643e-01, ...,\n",
       "         2.11853712e-04, -2.22210266e-05,  4.07671048e-15],\n",
       "       [-1.00714325e+01, -1.41934130e+00,  4.45305511e-02, ...,\n",
       "        -2.99196106e-04, -3.04403957e-05,  4.07671048e-15],\n",
       "       [-1.00810139e+01, -2.35006391e+00, -2.42239286e-02, ...,\n",
       "        -1.37734260e-03, -4.80696099e-04,  4.07671048e-15],\n",
       "       ...,\n",
       "       [-1.01055055e+01, -1.78421966e+00, -4.36437582e-02, ...,\n",
       "         8.77081706e-04,  4.70853308e-04,  4.07671048e-15],\n",
       "       [-1.00907680e+01, -2.35190986e+00, -5.62991435e-02, ...,\n",
       "         1.02441019e-03, -3.76975958e-04,  4.07671048e-15],\n",
       "       [-1.01096672e+01, -2.01181680e+00,  5.51646402e-03, ...,\n",
       "        -3.74264455e-04,  2.89136672e-04,  4.07671048e-15]])"
      ]
     },
     "execution_count": 113,
     "metadata": {},
     "output_type": "execute_result"
    }
   ],
   "source": [
    "scaler = StandardScaler()\n",
    "X=scaler.fit_transform(X)\n",
    "pca.fit_transform(X)"
   ]
  },
  {
   "cell_type": "code",
   "execution_count": 114,
   "metadata": {},
   "outputs": [
    {
     "name": "stdout",
     "output_type": "stream",
     "text": [
      "97\n",
      "[[ 2.32269845e-02  2.29304505e-02  2.32277150e-02 ...  2.32260639e-02\n",
      "   2.32186303e-02  2.32181566e-02]\n",
      " [-8.23902589e-04  4.27370274e-04 -8.13120918e-04 ... -6.01408132e-04\n",
      "  -6.24997763e-04 -8.54178344e-04]\n",
      " [ 9.14875360e-04 -3.39542994e-02  1.94585584e-03 ...  3.57820104e-03\n",
      "   1.85307818e-03  3.50374773e-03]\n",
      " ...\n",
      " [-1.47028749e-04 -1.07414062e-04 -2.14628329e-04 ... -7.19093497e-04\n",
      "  -1.48742266e-04 -4.84795320e-04]\n",
      " [-3.43979097e-04 -2.30804538e-03  1.91568849e-04 ...  7.49463731e-04\n",
      "  -3.72004007e-04 -8.98963888e-04]\n",
      " [ 1.30022619e-01 -4.27506126e-02  1.43048554e-02 ... -7.19087189e-03\n",
      "   3.87076673e-02 -2.50551278e-02]]\n"
     ]
    },
    {
     "data": {
      "image/png": "[encoded data removed]",
      "text/plain": [
       "<Figure size 432x288 with 1 Axes>"
      ]
     },
     "metadata": {
      "needs_background": "light"
     },
     "output_type": "display_data"
    }
   ],
   "source": [
    "features = range(pca.n_components_)\n",
    "print(pca.n_components_)\n",
    "print(pca.components_)\n",
    "plt.bar(features, pca.explained_variance_ratio_)\n",
    "plt.xticks(features)\n",
    "plt.xlabel(\"PCA features\")\n",
    "plt.ylabel(\"variance\")\n",
    "plt.yscale('log')\n",
    "plt.ylim(1e-4,2e0)\n",
    "plt.xlim(-0.5,15.5)\n",
    "plt.grid()\n",
    "plt.show()"
   ]
  },
  {
   "cell_type": "code",
   "execution_count": 115,
   "metadata": {},
   "outputs": [
    {
     "data": {
      "image/png": "[encoded data removed]",
      "text/plain": [
       "<Figure size 432x288 with 1 Axes>"
      ]
     },
     "metadata": {
      "needs_background": "light"
     },
     "output_type": "display_data"
    }
   ],
   "source": [
    "plt.plot(np.cumsum(pca.explained_variance_ratio_))\n",
    "plt.xlabel('number of components')\n",
    "plt.ylabel('cumulative explained variance')\n",
    "plt.xlim(-0.5,15.5)\n",
    "plt.grid()\n",
    "plt.show()"
   ]
  },
  {
   "cell_type": "code",
   "execution_count": 116,
   "metadata": {},
   "outputs": [
    {
     "name": "stdout",
     "output_type": "stream",
     "text": [
      "(97, 2048)\n",
      "(97, 7)\n"
     ]
    }
   ],
   "source": [
    "pca = PCA(7)  # project from 97 to 7 dimensions\n",
    "X_pca = pca.fit_transform(X)\n",
    "print(X.shape)\n",
    "print(X_pca.shape)"
   ]
  },
  {
   "cell_type": "code",
   "execution_count": 117,
   "metadata": {},
   "outputs": [
    {
     "name": "stdout",
     "output_type": "stream",
     "text": [
      "(97, 2048)\n",
      "[[-0.23230397 -0.2236962  -0.23237422 ... -0.23208458 -0.23183217\n",
      "  -0.23096925]\n",
      " [-0.23271657 -0.22934615 -0.23295521 ... -0.23194563 -0.23303136\n",
      "  -0.23173012]\n",
      " [-0.23234564 -0.22784539 -0.2325218  ... -0.231917   -0.23259629\n",
      "  -0.23155355]\n",
      " ...\n",
      " [-0.23353819 -0.22709325 -0.23364842 ... -0.23306255 -0.23341186\n",
      "  -0.23233028]\n",
      " [-0.23268622 -0.22678621 -0.23284763 ... -0.23237895 -0.23276354\n",
      "  -0.23163083]\n",
      " [-0.23314749 -0.22975371 -0.23336396 ... -0.23274348 -0.23374465\n",
      "  -0.23270128]]\n"
     ]
    }
   ],
   "source": [
    "import numpy as np\n",
    "import sklearn.datasets, sklearn.decomposition\n",
    "\n",
    "mu = np.mean(X, axis=0)\n",
    "\n",
    "pca = sklearn.decomposition.PCA()\n",
    "pca.fit(X)\n",
    "\n",
    "nComp = 7\n",
    "Xhat = np.dot(pca.transform(X)[:,:nComp], pca.components_[:nComp,:])\n",
    "Xhat += mu\n",
    "print(Xhat.shape)\n",
    "print(Xhat)"
   ]
  },
  {
   "cell_type": "code",
   "execution_count": 118,
   "metadata": {},
   "outputs": [
    {
     "data": {
      "text/plain": [
       "array([[-1.00904248e+01, -2.92432336e+00, -1.68448529e-01, ...,\n",
       "        -6.90102465e-28, -1.43736162e-26, -2.67308019e-26],\n",
       "       [-1.00983403e+01, -1.85534814e+00, -2.68737821e-03, ...,\n",
       "         2.26621123e-15, -4.17047879e-15, -4.56052264e-15],\n",
       "       [-1.01088087e+01, -2.96094167e+00, -6.42581934e-02, ...,\n",
       "         9.21562002e-16, -2.87286794e-15, -2.29585931e-15],\n",
       "       ...,\n",
       "       [-1.01321313e+01, -2.26628765e+00, -8.34651753e-02, ...,\n",
       "         4.85955511e-15, -9.92673019e-16,  6.59180755e-16],\n",
       "       [-1.01180381e+01, -2.94665225e+00, -9.16681046e-02, ...,\n",
       "         3.20035319e-15, -1.00790349e-14,  2.52351396e-15],\n",
       "       [-1.01359453e+01, -2.53383380e+00, -2.37137816e-02, ...,\n",
       "         1.12891428e-15,  2.73929238e-17,  2.15323946e-15]])"
      ]
     },
     "execution_count": 118,
     "metadata": {},
     "output_type": "execute_result"
    }
   ],
   "source": [
    "pca = PCA()\n",
    "scaler = StandardScaler()\n",
    "Xhat=scaler.fit_transform(Xhat)\n",
    "pca.fit_transform(Xhat)"
   ]
  },
  {
   "cell_type": "code",
   "execution_count": 119,
   "metadata": {},
   "outputs": [
    {
     "name": "stdout",
     "output_type": "stream",
     "text": [
      "97\n",
      "[[ 2.31845034e-02  2.28888089e-02  2.31851306e-02 ...  2.31835669e-02\n",
      "   2.31758789e-02  2.31756138e-02]\n",
      " [-7.12209418e-04  4.98478454e-05 -6.90040897e-04 ... -5.10589685e-04\n",
      "  -5.11216033e-04 -6.57530179e-04]\n",
      " [ 1.04195306e-03 -3.15254530e-02  1.78112606e-03 ...  3.55379740e-03\n",
      "   1.15929785e-03  3.51609353e-03]\n",
      " ...\n",
      " [-4.61528935e-04 -1.24495135e-03 -7.22920866e-03 ... -2.13290267e-02\n",
      "  -3.60980542e-02  9.59942259e-03]\n",
      " [-4.14675705e-04 -1.38361170e-03  5.31142900e-03 ...  3.15406398e-02\n",
      "   1.86332434e-02  3.00837951e-02]\n",
      " [ 3.53964613e-04 -1.92314343e-03  1.33060662e-03 ...  1.51761487e-03\n",
      "  -3.59577398e-02  3.45389892e-03]]\n"
     ]
    },
    {
     "data": {
      "image/png": "[encoded data removed]",
      "text/plain": [
       "<Figure size 432x288 with 1 Axes>"
      ]
     },
     "metadata": {
      "needs_background": "light"
     },
     "output_type": "display_data"
    }
   ],
   "source": [
    "features = range(pca.n_components_)\n",
    "print(pca.n_components_)\n",
    "print(pca.components_)\n",
    "plt.bar(features, pca.explained_variance_ratio_)\n",
    "plt.xticks(features)\n",
    "plt.xlabel(\"PCA features\")\n",
    "plt.ylabel(\"variance\")\n",
    "plt.yscale('log')\n",
    "plt.ylim(1e-4,2e0)\n",
    "plt.xlim(-0.5,15.5)\n",
    "plt.grid()\n",
    "plt.show()"
   ]
  },
  {
   "cell_type": "code",
   "execution_count": 108,
   "metadata": {},
   "outputs": [
    {
     "data": {
      "image/png": "[encoded data removed]",
      "text/plain": [
       "<Figure size 432x288 with 1 Axes>"
      ]
     },
     "metadata": {
      "needs_background": "light"
     },
     "output_type": "display_data"
    }
   ],
   "source": [
    "plt.plot(np.cumsum(pca.explained_variance_ratio_))\n",
    "plt.xlabel('number of components')\n",
    "plt.ylabel('cumulative explained variance')\n",
    "plt.xlim(-0.5,15.5)\n",
    "plt.grid()\n",
    "plt.show()"
   ]
  },
  {
   "cell_type": "code",
   "execution_count": null,
   "metadata": {},
   "outputs": [],
   "source": []
  }
 ],
 "metadata": {
  "kernelspec": {
   "display_name": "Python 3",
   "language": "python",
   "name": "python3"
  },
  "language_info": {
   "codemirror_mode": {
    "name": "ipython",
    "version": 3
   },
   "file_extension": ".py",
   "mimetype": "text/x-python",
   "name": "python",
   "nbconvert_exporter": "python",
   "pygments_lexer": "ipython3",
   "version": "3.7.3"
  }
 },
 "nbformat": 4,
 "nbformat_minor": 4
}
