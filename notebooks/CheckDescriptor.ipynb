{
 "cells": [
  {
   "cell_type": "code",
   "execution_count": 1,
   "metadata": {},
   "outputs": [],
   "source": [
    "# This notebook take UVES images numpy arrays and compute the resnet50 descriptors\n",
    "# After that it save the descriptors in the descriptor blob in azure\n",
    "from azure.storage.blob import BlockBlobService, PublicAccess"
   ]
  },
  {
   "cell_type": "code",
   "execution_count": 2,
   "metadata": {},
   "outputs": [
    {
     "data": {
      "text/plain": [
       "<azure.storage.blob.models.ResourceProperties at 0x7fca244acf60>"
      ]
     },
     "execution_count": 2,
     "metadata": {},
     "output_type": "execute_result"
    }
   ],
   "source": [
    "# Create the BlockBlockService that is used to call the Blob service \n",
    "# for the storage account\n",
    "AccountName = 'uvesdata'\n",
    "AccountKey = 'UU/60Su8kB++k39FqnENlVgNM2TenRBNso80EKfrG2hqJTz0ah22Q6T1bo+BYYtIw7md/zjwIjr3kg0jvfMo/w=='\n",
    "block_blob_service = BlockBlobService(account_name=AccountName, account_key=AccountKey)\n",
    "\n",
    "# Create a container called 'descriptor' (it is already there).\n",
    "ContNameDesc = 'descriptorcorrupt'\n",
    "cont_name_desc = ContNameDesc\n",
    "#block_blob_service.create_container(container_name)\n",
    "\n",
    "# Set the permission so the blobs are public.\n",
    "block_blob_service.set_container_acl(cont_name_desc, public_access=PublicAccess.Container)"
   ]
  },
  {
   "cell_type": "code",
   "execution_count": 3,
   "metadata": {},
   "outputs": [],
   "source": [
    "import os\n",
    "import numpy as np\n",
    "import pandas as pd\n",
    "import matplotlib.pyplot as plt\n",
    "import seaborn as sns\n",
    "import random\n",
    "\n",
    "%matplotlib inline"
   ]
  },
  {
   "cell_type": "code",
   "execution_count": 4,
   "metadata": {},
   "outputs": [],
   "source": [
    "# Create a list \"filelist\" with the blob content\n",
    "# inside the \"Azure:container/folder\" location \n",
    "def BlobList(container, folder, filelist, verbose=False):\n",
    "    \n",
    "    gen = block_blob_service.list_blobs(container, prefix=folder)\n",
    "    \n",
    "    for blob in gen:\n",
    "        file = str(blob.name).replace(folder,'')\n",
    "        filelist.append(file)\n",
    "        if verbose == True:\n",
    "            print(\"\\t Blob name: \" + blob.name)\n",
    "        \n",
    "    return filelist\n",
    "\n",
    "# Download a file \"blobfile\" from \"container\" and save it \n",
    "# in the file \"locfile\"\n",
    "def DownBlob(container, blobfile, locfile, verbose=False):\n",
    "    \n",
    "    if verbose == True:\n",
    "        print('Downloading ' + blobfile + ' to ' + locfile)\n",
    "    \n",
    "    block_blob_service.get_blob_to_path(container, blobfile, locfile)"
   ]
  },
  {
   "cell_type": "code",
   "execution_count": 6,
   "metadata": {},
   "outputs": [
    {
     "name": "stdout",
     "output_type": "stream",
     "text": [
      "\n",
      "\n",
      "For Extension 0\n",
      "Uploaded descriptors:  100\n",
      "Checking descriptor numpy/method2/UVES_BLUE_BIAS/ext0/UVES.2017-04-06T10:46:29.449C297_desc.npy\n",
      "Descriptor shape:  (1, 2048)\n",
      "Descriptor array:  [[0.00741417 0.00418247 0.00958695 ... 0.03276253 0.00384135 0.        ]]\n"
     ]
    }
   ],
   "source": [
    "# List of numpy arrays to process\n",
    "# * bias_red:\n",
    "#   - UVES_RED_BIAS (ext: 1,2)\n",
    "# * bias_blue:\n",
    "#   - UVES_BLUE_BIAS (ext: 0)\n",
    "# * blue_arc_flat:\n",
    "#   - UVES_BLUE_WAVE (ext: 1,2)\n",
    "#   - UVES_DIC1B_FLAT (ext: 0)\n",
    "#   - UVES_DIC1B_DFLAT (ext: 0)\n",
    "# * red_arc_flat:\n",
    "#   - UVES_RED_WAVE (ext: 1,2)\n",
    "#   - UVES_DIC1R_FLAT (ext: 1,2)\n",
    "# The following lines produce the resnet50 descriptors for the images inside\n",
    "# fits_folder and the corresponding extentsion \n",
    "\n",
    "# Define the subdirs to be created in /descriptor based on the image type and ext\n",
    "#desc_blob_sub_dir = ['UVES_BLUE_BIAS','UVES_RED_BIAS','UVES_BLUE_WAVE','UVES_DIC1B_FLAT','UVES_DIC1B_DFLAT','UVES_RED_WAVE','UVES_DIC1R_FLAT']\n",
    "# Test\n",
    "desc_blob_sub_dir = 'UVES_BLUE_BIAS'\n",
    "\n",
    "path_loc = './data'\n",
    "    \n",
    "if desc_blob_sub_dir == 'UVES_BLUE_BIAS' or desc_blob_sub_dir == 'UVES_DIC1B_FLAT' or desc_blob_sub_dir == 'UVES_DIC1B_DFLAT':\n",
    "    Exten = [0]\n",
    "elif desc_blob_sub_dir == 'UVES_RED_BIAS' or desc_blob_sub_dir == 'UVES_BLUE_WAVE' or desc_blob_sub_dir == 'UVES_RED_WAVE' or desc_blob_sub_dir == 'UVES_DIC1R_FLAT':\n",
    "    Exten = [1,2]\n",
    "    \n",
    "# Loop for images extensions\n",
    "for ext in Exten:\n",
    "    print('\\n')\n",
    "    print('For Extension ' + str(ext))\n",
    "    desc_files_list = []\n",
    "    extension = 'ext'+str(ext)\n",
    "    # List the images-extension data\n",
    "    desc_folder_rem = os.path.join('numpy/method2', desc_blob_sub_dir)\n",
    "    desc_folder_rem = os.path.join(desc_folder_rem, extension)\n",
    "    BlobList(cont_name_desc, desc_folder_rem, desc_files_list)\n",
    "    print('Uploaded descriptors: ',len(desc_files_list))\n",
    "    # For random selection\n",
    "    if len(desc_files_list)>0:\n",
    "        desc_to_check = random.sample(desc_files_list, 1)\n",
    "        desc_to_check = str(desc_to_check[0])\n",
    "    \n",
    "        desc_file_rem = desc_folder_rem + desc_to_check\n",
    "        loc_file = path_loc + desc_to_check\n",
    "        print('Checking descriptor ' + desc_file_rem)\n",
    "    \n",
    "        DownBlob(cont_name_desc, desc_file_rem, loc_file, False)\n",
    "\n",
    "        desc = np.load(loc_file)\n",
    "        np_desc = np.array(desc)\n",
    "        print('Descriptor shape: ', np_desc.shape)\n",
    "        print('Descriptor array: ', np_desc)\n",
    "    elif len(desc_files_list)==0:\n",
    "        print('No descriptors in ' + desc_folder_rem)"
   ]
  },
  {
   "cell_type": "code",
   "execution_count": null,
   "metadata": {},
   "outputs": [],
   "source": []
  },
  {
   "cell_type": "code",
   "execution_count": null,
   "metadata": {},
   "outputs": [],
   "source": []
  }
 ],
 "metadata": {
  "kernelspec": {
   "display_name": "PoC ESO",
   "language": "python",
   "name": "eso"
  },
  "language_info": {
   "codemirror_mode": {
    "name": "ipython",
    "version": 3
   },
   "file_extension": ".py",
   "mimetype": "text/x-python",
   "name": "python",
   "nbconvert_exporter": "python",
   "pygments_lexer": "ipython3",
   "version": "3.6.8"
  }
 },
 "nbformat": 4,
 "nbformat_minor": 4
}
