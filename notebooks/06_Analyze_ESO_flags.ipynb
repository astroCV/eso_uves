{
 "cells": [
  {
   "cell_type": "code",
   "execution_count": 2,
   "metadata": {},
   "outputs": [],
   "source": [
    "import os\n",
    "import pandas as pd"
   ]
  },
  {
   "cell_type": "code",
   "execution_count": 4,
   "metadata": {},
   "outputs": [],
   "source": [
    "# Paths\n",
    "PROJECT_DIR = \"/data/notebooks/uves_jprieto\"\n",
    "# Data dir\n",
    "DATA_DIR = os.path.join(PROJECT_DIR, \"data\")\n",
    "# Model checkpoints\n",
    "CHECKPOINT_DIR = os.path.join(PROJECT_DIR, \"data/descriptors\")"
   ]
  },
  {
   "cell_type": "code",
   "execution_count": 5,
   "metadata": {},
   "outputs": [
    {
     "data": {
      "text/html": [
       "<div>\n",
       "<style scoped>\n",
       "    .dataframe tbody tr th:only-of-type {\n",
       "        vertical-align: middle;\n",
       "    }\n",
       "\n",
       "    .dataframe tbody tr th {\n",
       "        vertical-align: top;\n",
       "    }\n",
       "\n",
       "    .dataframe thead th {\n",
       "        text-align: right;\n",
       "    }\n",
       "</style>\n",
       "<table border=\"1\" class=\"dataframe\">\n",
       "  <thead>\n",
       "    <tr style=\"text-align: right;\">\n",
       "      <th></th>\n",
       "      <th>image_type</th>\n",
       "      <th>filename</th>\n",
       "      <th>flag</th>\n",
       "      <th>info</th>\n",
       "    </tr>\n",
       "  </thead>\n",
       "  <tbody>\n",
       "    <tr>\n",
       "      <th>0</th>\n",
       "      <td>bias_blue</td>\n",
       "      <td>UVES.2010-01-01T10:08:04.504.fits</td>\n",
       "      <td>NaN</td>\n",
       "      <td>NaN</td>\n",
       "    </tr>\n",
       "    <tr>\n",
       "      <th>1</th>\n",
       "      <td>bias_blue</td>\n",
       "      <td>UVES.2010-01-01T10:08:50.087.fits</td>\n",
       "      <td>NaN</td>\n",
       "      <td>NaN</td>\n",
       "    </tr>\n",
       "    <tr>\n",
       "      <th>2</th>\n",
       "      <td>bias_blue</td>\n",
       "      <td>UVES.2010-01-01T10:09:35.661.fits</td>\n",
       "      <td>NaN</td>\n",
       "      <td>NaN</td>\n",
       "    </tr>\n",
       "    <tr>\n",
       "      <th>3</th>\n",
       "      <td>bias_blue</td>\n",
       "      <td>UVES.2010-01-01T10:10:21.234.fits</td>\n",
       "      <td>NaN</td>\n",
       "      <td>NaN</td>\n",
       "    </tr>\n",
       "    <tr>\n",
       "      <th>4</th>\n",
       "      <td>bias_blue</td>\n",
       "      <td>UVES.2010-01-01T10:11:06.808.fits</td>\n",
       "      <td>NaN</td>\n",
       "      <td>NaN</td>\n",
       "    </tr>\n",
       "  </tbody>\n",
       "</table>\n",
       "</div>"
      ],
      "text/plain": [
       "  image_type                           filename flag info\n",
       "0  bias_blue  UVES.2010-01-01T10:08:04.504.fits  NaN  NaN\n",
       "1  bias_blue  UVES.2010-01-01T10:08:50.087.fits  NaN  NaN\n",
       "2  bias_blue  UVES.2010-01-01T10:09:35.661.fits  NaN  NaN\n",
       "3  bias_blue  UVES.2010-01-01T10:10:21.234.fits  NaN  NaN\n",
       "4  bias_blue  UVES.2010-01-01T10:11:06.808.fits  NaN  NaN"
      ]
     },
     "execution_count": 5,
     "metadata": {},
     "output_type": "execute_result"
    }
   ],
   "source": [
    "uves_flag_file=os.path.join(DATA_DIR, 'UVES_hidden_flag_results.txt')\n",
    "uves_flag_df=pd.read_csv(uves_flag_file, comment='#', sep=';')\n",
    "\n",
    "uves_flag_df['filename'] = uves_flag_df['filename']+'.fits'\n",
    "\n",
    "uves_flag_df.head()"
   ]
  },
  {
   "cell_type": "code",
   "execution_count": 7,
   "metadata": {},
   "outputs": [
    {
     "data": {
      "text/html": [
       "<div>\n",
       "<style scoped>\n",
       "    .dataframe tbody tr th:only-of-type {\n",
       "        vertical-align: middle;\n",
       "    }\n",
       "\n",
       "    .dataframe tbody tr th {\n",
       "        vertical-align: top;\n",
       "    }\n",
       "\n",
       "    .dataframe thead th {\n",
       "        text-align: right;\n",
       "    }\n",
       "</style>\n",
       "<table border=\"1\" class=\"dataframe\">\n",
       "  <thead>\n",
       "    <tr style=\"text-align: right;\">\n",
       "      <th></th>\n",
       "      <th>image_type</th>\n",
       "      <th>filename</th>\n",
       "      <th>flag</th>\n",
       "      <th>info</th>\n",
       "    </tr>\n",
       "  </thead>\n",
       "  <tbody>\n",
       "    <tr>\n",
       "      <th>1495</th>\n",
       "      <td>bias_blue</td>\n",
       "      <td>UVES.2010-10-26T09:32:08.896.fits</td>\n",
       "      <td>CORRUPTED</td>\n",
       "      <td>20101027,DBCM02070</td>\n",
       "    </tr>\n",
       "    <tr>\n",
       "      <th>1496</th>\n",
       "      <td>bias_blue</td>\n",
       "      <td>UVES.2010-10-26T09:32:54.480.fits</td>\n",
       "      <td>CORRUPTED</td>\n",
       "      <td>20101027,DBCM02070</td>\n",
       "    </tr>\n",
       "    <tr>\n",
       "      <th>1497</th>\n",
       "      <td>bias_blue</td>\n",
       "      <td>UVES.2010-10-26T09:33:40.043.fits</td>\n",
       "      <td>CORRUPTED</td>\n",
       "      <td>20101027,DBCM02070</td>\n",
       "    </tr>\n",
       "    <tr>\n",
       "      <th>1498</th>\n",
       "      <td>bias_blue</td>\n",
       "      <td>UVES.2010-10-26T09:34:25.617.fits</td>\n",
       "      <td>CORRUPTED</td>\n",
       "      <td>20101027,DBCM02070</td>\n",
       "    </tr>\n",
       "    <tr>\n",
       "      <th>1499</th>\n",
       "      <td>bias_blue</td>\n",
       "      <td>UVES.2010-10-26T09:35:11.190.fits</td>\n",
       "      <td>CORRUPTED</td>\n",
       "      <td>20101027,DBCM02070</td>\n",
       "    </tr>\n",
       "  </tbody>\n",
       "</table>\n",
       "</div>"
      ],
      "text/plain": [
       "     image_type                           filename       flag  \\\n",
       "1495  bias_blue  UVES.2010-10-26T09:32:08.896.fits  CORRUPTED   \n",
       "1496  bias_blue  UVES.2010-10-26T09:32:54.480.fits  CORRUPTED   \n",
       "1497  bias_blue  UVES.2010-10-26T09:33:40.043.fits  CORRUPTED   \n",
       "1498  bias_blue  UVES.2010-10-26T09:34:25.617.fits  CORRUPTED   \n",
       "1499  bias_blue  UVES.2010-10-26T09:35:11.190.fits  CORRUPTED   \n",
       "\n",
       "                    info  \n",
       "1495  20101027,DBCM02070  \n",
       "1496  20101027,DBCM02070  \n",
       "1497  20101027,DBCM02070  \n",
       "1498  20101027,DBCM02070  \n",
       "1499  20101027,DBCM02070  "
      ]
     },
     "execution_count": 7,
     "metadata": {},
     "output_type": "execute_result"
    }
   ],
   "source": [
    "corrupted_df = uves_flag_df[(uves_flag_df['image_type'] == 'bias_blue') & (uves_flag_df['flag'] == 'CORRUPTED')]\n",
    "corrupted_df.head()"
   ]
  },
  {
   "cell_type": "code",
   "execution_count": 8,
   "metadata": {},
   "outputs": [
    {
     "data": {
      "text/plain": [
       "['UVES.2010-10-26T09:32:08.896.fits',\n",
       " 'UVES.2010-10-26T09:32:54.480.fits',\n",
       " 'UVES.2010-10-26T09:33:40.043.fits',\n",
       " 'UVES.2010-10-26T09:34:25.617.fits',\n",
       " 'UVES.2010-10-26T09:35:11.190.fits',\n",
       " 'UVES.2010-10-27T09:03:28.338.fits',\n",
       " 'UVES.2010-10-27T09:04:13.922.fits',\n",
       " 'UVES.2010-10-27T09:04:59.495.fits',\n",
       " 'UVES.2010-10-27T09:05:45.069.fits',\n",
       " 'UVES.2010-10-27T09:06:30.642.fits',\n",
       " 'UVES.2012-02-17T10:05:06.556.fits',\n",
       " 'UVES.2012-02-17T10:05:52.140.fits',\n",
       " 'UVES.2012-02-17T10:06:37.713.fits',\n",
       " 'UVES.2012-02-17T10:07:23.287.fits',\n",
       " 'UVES.2012-02-17T10:08:08.860.fits',\n",
       " 'UVES.2015-05-26T22:32:32.321.fits',\n",
       " 'UVES.2015-12-05T09:37:16.660.fits',\n",
       " 'UVES.2015-12-05T09:38:02.244.fits',\n",
       " 'UVES.2015-12-05T09:38:47.818.fits',\n",
       " 'UVES.2015-12-05T09:39:33.392.fits',\n",
       " 'UVES.2015-12-05T09:40:18.967.fits',\n",
       " 'UVES.2015-12-06T09:01:10.063.fits',\n",
       " 'UVES.2015-12-06T09:01:55.647.fits',\n",
       " 'UVES.2015-12-06T09:02:41.222.fits',\n",
       " 'UVES.2015-12-06T09:03:26.796.fits',\n",
       " 'UVES.2015-12-06T09:04:12.380.fits',\n",
       " 'UVES.2015-12-07T08:52:50.326.fits',\n",
       " 'UVES.2015-12-07T08:53:35.910.fits',\n",
       " 'UVES.2015-12-07T08:54:21.484.fits',\n",
       " 'UVES.2015-12-07T08:55:07.048.fits',\n",
       " 'UVES.2015-12-07T08:55:52.632.fits',\n",
       " 'UVES.2015-12-08T08:57:19.936.fits',\n",
       " 'UVES.2015-12-08T08:58:05.520.fits',\n",
       " 'UVES.2015-12-08T08:58:51.094.fits',\n",
       " 'UVES.2015-12-08T08:59:36.668.fits',\n",
       " 'UVES.2015-12-08T09:00:22.242.fits',\n",
       " 'UVES.2015-12-09T08:48:05.206.fits',\n",
       " 'UVES.2015-12-09T08:48:50.710.fits',\n",
       " 'UVES.2015-12-09T08:49:36.204.fits',\n",
       " 'UVES.2015-12-09T08:50:21.698.fits',\n",
       " 'UVES.2015-12-09T08:51:07.192.fits',\n",
       " 'UVES.2018-05-09T11:15:51.335.fits',\n",
       " 'UVES.2018-05-09T11:16:37.019.fits',\n",
       " 'UVES.2018-05-09T11:17:22.602.fits',\n",
       " 'UVES.2018-05-09T11:18:08.186.fits',\n",
       " 'UVES.2018-05-09T11:18:53.770.fits']"
      ]
     },
     "execution_count": 8,
     "metadata": {},
     "output_type": "execute_result"
    }
   ],
   "source": [
    "list(corrupted_df['filename'])"
   ]
  },
  {
   "cell_type": "code",
   "execution_count": null,
   "metadata": {},
   "outputs": [],
   "source": []
  }
 ],
 "metadata": {
  "kernelspec": {
   "display_name": "Python 3",
   "language": "python",
   "name": "python3"
  },
  "language_info": {
   "codemirror_mode": {
    "name": "ipython",
    "version": 3
   },
   "file_extension": ".py",
   "mimetype": "text/x-python",
   "name": "python",
   "nbconvert_exporter": "python",
   "pygments_lexer": "ipython3",
   "version": "3.7.3"
  }
 },
 "nbformat": 4,
 "nbformat_minor": 4
}
