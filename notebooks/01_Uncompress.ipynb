{
 "cells": [
  {
   "cell_type": "code",
   "execution_count": 1,
   "metadata": {},
   "outputs": [],
   "source": [
    "#------------------------------------------------------------------------------\n",
    "# This script upload local files to a blob in the azure clud.\n",
    "# It needs account information:\n",
    "#   - Account name.\n",
    "#   - Account key.\n",
    "# It needs the blob container information\n",
    "#   - Container name\n",
    "#   - Container sub-directory\n",
    "#------------------------------------------------------------------------------\n",
    "import os, uuid, sys\n",
    "import subprocess\n",
    "import tqdm\n",
    "import astropy\n",
    "import numpy as np\n",
    "import pandas as pd\n",
    "import matplotlib.pyplot as plt\n",
    "import time\n",
    "import multiprocessing\n",
    "import json\n",
    "\n",
    "from io import BytesIO\n",
    "from astropy.io import fits\n",
    "from functools import partial\n",
    "from azure.storage.blob import BlockBlobService, PublicAccess"
   ]
  },
  {
   "cell_type": "code",
   "execution_count": 2,
   "metadata": {},
   "outputs": [],
   "source": [
    "with open('credentials.json') as f:\n",
    "    data = json.load(f)\n",
    "    accountName = data['accountName']\n",
    "    accountKey = data['accountKey']"
   ]
  },
  {
   "cell_type": "code",
   "execution_count": 4,
   "metadata": {},
   "outputs": [
    {
     "data": {
      "text/plain": [
       "<azure.storage.blob.models.ResourceProperties at 0x11216a4e0>"
      ]
     },
     "execution_count": 4,
     "metadata": {},
     "output_type": "execute_result"
    }
   ],
   "source": [
    "# Create the BlockBlockService that is used to call the Blob service \n",
    "# for the storage account\n",
    "block_blob_service = BlockBlobService(account_name=accountName, account_key=accountKey)\n",
    "\n",
    "# Create a container called 'raw' (it is already there).\n",
    "ContainerNameZ = 'raw'\n",
    "container_name_Z = ContainerNameZ\n",
    "#block_blob_service.create_container(container_name)\n",
    "\n",
    "# Set the permission so the blobs are public.\n",
    "block_blob_service.set_container_acl(container_name_Z, public_access=PublicAccess.Container)\n",
    "\n",
    "# Create a container called 'processed' (it is already there).\n",
    "ContainerNameFits = 'processed'\n",
    "container_name_fits = ContainerNameFits\n",
    "#block_blob_service.create_container(container_name)\n",
    "\n",
    "# Set the permission so the blobs are public.\n",
    "block_blob_service.set_container_acl(container_name_fits, public_access=PublicAccess.Container)"
   ]
  },
  {
   "cell_type": "code",
   "execution_count": 5,
   "metadata": {},
   "outputs": [],
   "source": [
    "# Create a list \"filelist\" with the blob content\n",
    "# inside the \"Azure:container/folder\" location \n",
    "def BlobList(container, folder, filelist, verbose=False):\n",
    "    \n",
    "    gen = block_blob_service.list_blobs(container, prefix=folder)\n",
    "    \n",
    "    for blob in gen:\n",
    "        file = str(blob.name).replace(folder,'')\n",
    "        filelist.append(file)\n",
    "        if verbose == True:\n",
    "            print(\"\\t Blob name: \" + blob.name)\n",
    "        \n",
    "    return filelist\n",
    "\n",
    "# Download a file \"blobfile\" from \"container\" and save it \n",
    "# in the file \"locfile\"\n",
    "def DownBlob(container, blobfile, locfile, verbose=False):\n",
    "    \n",
    "    if verbose == True:\n",
    "        print('Downloading ' + blobfile + ' to ' + locfile)\n",
    "    \n",
    "    block_blob_service.get_blob_to_path(container, blobfile, locfile)\n",
    "\n",
    "# Uncompress data \n",
    "def UnCompress(file, verbose=False):\n",
    "    \n",
    "    if verbose == True:\n",
    "        print('Uncompressing ' + file)\n",
    "    \n",
    "    subprocess.call(['uncompress', file])\n",
    "    #os.popen('uncompress ' + file)\n",
    "\n",
    "# Upload file \"locfile\" to the blob \"blobfile\" in container\n",
    "def UpBlob(container, blobfile, locfile, verbose=False):\n",
    "    \n",
    "    if verbose == True:\n",
    "        print('Uploading ' + locfile + ' to ' + blobfile)\n",
    "        \n",
    "    block_blob_service.create_blob_from_path(container, blobfile, locfile, validate_content=True)\n",
    "\n",
    "# Process Blob\n",
    "def ProcessBlob(path_loc, blob_sub_dir, Z_file, verbose=False):\n",
    "    # Download the data\n",
    "    blob_name = os.path.join(blob_sub_dir,Z_file)\n",
    "    path_to_file_loc = os.path.join(path_loc, Z_file)\n",
    "    DownBlob(container_name_Z, blob_name, path_to_file_loc, False)\n",
    "\n",
    "    # Uncompress the data\n",
    "    #sizeZ = os.path.getsize(path_to_file_loc)\n",
    "    #print('.Z    size: ',sizeZ)\n",
    "    UnCompress(path_to_file_loc,False)\n",
    "    #sizefits = os.path.getsize(path_to_fits_file)\n",
    "    #print('.fits size: ',sizefits)\n",
    "\n",
    "    # Upload the data\n",
    "    path_to_fits_file = path_to_file_loc.replace('.Z','')\n",
    "    fits_file = path_to_fits_file.replace(path_loc,'')\n",
    "    blob_name = blob_sub_dir + fits_file\n",
    "    while not os.path.exists(path_to_fits_file):\n",
    "        time.sleep(0.1)\n",
    "        \n",
    "    if verbose:\n",
    "        statinfo=os.stat(path_to_fits_file)\n",
    "        print(\"File size {} MB\".format(statinfo.st_size/1024**2))\n",
    "    \n",
    "    UpBlob(container_name_fits, blob_name, path_to_fits_file, False)\n",
    "\n",
    "    # Remove uploaded file\n",
    "    #time.sleep(5)\n",
    "    os.remove(path_to_fits_file)"
   ]
  },
  {
   "cell_type": "code",
   "execution_count": 6,
   "metadata": {},
   "outputs": [
    {
     "name": "stdout",
     "output_type": "stream",
     "text": [
      "Working on test...\n"
     ]
    },
    {
     "name": "stderr",
     "output_type": "stream",
     "text": [
      "100%|██████████| 10/10 [01:21<00:00,  8.14s/it]"
     ]
    },
    {
     "name": "stdout",
     "output_type": "stream",
     "text": [
      "Total dir time:  81.50801587104797\n",
      "Total out time:  82.1095540523529\n"
     ]
    },
    {
     "name": "stderr",
     "output_type": "stream",
     "text": [
      "\n"
     ]
    }
   ],
   "source": [
    "# List the blob content\n",
    "# Download from the raw blob\n",
    "# Uncompress .Z files\n",
    "# Upload to the processed blob\n",
    "\n",
    "#Test\n",
    "BlobSubDirs = ['test']\n",
    "#BlobSubDirs = ['red_arc_flat']#, 'bias_red', 'blue_arc_flat','red_arc_flat']\n",
    "path_loc = '../Temp'\n",
    "if not os.path.exists(path_loc):\n",
    "    os.mkdir(path_loc)\n",
    "\n",
    "start_time_out = time.time()\n",
    "\n",
    "for blob_sub_dir in BlobSubDirs:\n",
    "    \n",
    "    # List the data\n",
    "    Z_files = []\n",
    "    FolderRem = blob_sub_dir + '/'\n",
    "    folder_rem = FolderRem\n",
    "    BlobList(container_name_Z, folder_rem, Z_files)\n",
    "    \n",
    "    #-----------------------------------------------------------------------\n",
    "    # Patch to continue \n",
    "    fits_files = []\n",
    "    BlobList(container_name_fits, folder_rem, fits_files)\n",
    "    # Remove already uploaded files\n",
    "    fits_files = [file.replace('.fits','.fits.Z') for file in fits_files]\n",
    "    Z_files = [file for file in Z_files if file not in fits_files]\n",
    "    #-----------------------------------------------------------------------\n",
    "    \n",
    "    #Test\n",
    "    #Z_files=Z_files[0:30]\n",
    "    start_time_dir= time.time()\n",
    "    \n",
    "    print('Working on ' + blob_sub_dir + '...')\n",
    "    \n",
    "    tasks = partial(ProcessBlob, path_loc, blob_sub_dir)\n",
    "    with multiprocessing.Pool(10) as p:\n",
    "        result = list(tqdm.tqdm(p.imap(tasks, Z_files), total=len(Z_files)))\n",
    "    \n",
    "    end_time_dir = time.time()\n",
    "    total_time_dir = end_time_dir - start_time_dir\n",
    "    print('Total dir time: ', total_time_dir)\n",
    "\n",
    "end_time = time.time()\n",
    "total_time_out = end_time - start_time_out\n",
    "print('Total out time: ', total_time_out)"
   ]
  },
  {
   "cell_type": "code",
   "execution_count": null,
   "metadata": {},
   "outputs": [],
   "source": []
  }
 ],
 "metadata": {
  "kernelspec": {
   "display_name": "Python 3",
   "language": "python",
   "name": "python3"
  },
  "language_info": {
   "codemirror_mode": {
    "name": "ipython",
    "version": 3
   },
   "file_extension": ".py",
   "mimetype": "text/x-python",
   "name": "python",
   "nbconvert_exporter": "python",
   "pygments_lexer": "ipython3",
   "version": "3.7.3"
  }
 },
 "nbformat": 4,
 "nbformat_minor": 4
}
